{
  "cells": [
    {
      "cell_type": "markdown",
      "metadata": {
        "id": "BwN1Y28I8-c3"
      },
      "source": [
        "# Prédiction du Prix des Maisons – Techniques Avancées de Régression  \n",
        "*Lilian Page, Torres Diego*\n",
        "\n",
        "## 🎯 Objectif du Projet\n",
        "\n",
        "Ce projet vise à effectuer une **analyse complète de données** sur un dataset issu du concours Kaggle :  \n",
        "👉 [House Prices - Advanced Regression Techniques](https://www.kaggle.com/c/house-prices-advanced-regression-techniques)\n",
        "\n",
        "Le but est de comprendre les facteurs influençant le prix de vente des maisons et de construire un **modèle prédictif performant**, déployé via un **dashboard interactif**."
      ]
    },
    {
      "cell_type": "code",
      "execution_count": 1,
      "metadata": {
        "id": "K55VOHlD8-c4"
      },
      "outputs": [],
      "source": [
        "import pandas as pd\n",
        "import matplotlib.pyplot as plt\n",
        "import numpy as np\n",
        "import seaborn as sns"
      ]
    },
    {
      "cell_type": "code",
      "execution_count": 2,
      "metadata": {
        "id": "8X3BNoze8-c5"
      },
      "outputs": [],
      "source": [
        "import sklearn\n",
        "from sklearn.pipeline import Pipeline, FeatureUnion\n",
        "from sklearn.impute import SimpleImputer, MissingIndicator\n",
        "from sklearn.preprocessing import FunctionTransformer, LabelEncoder, Normalizer, StandardScaler, OneHotEncoder\n",
        "from sklearn.base import BaseEstimator, TransformerMixin, ClassifierMixin, clone\n",
        "import sklearn_pandas\n",
        "from sklearn.metrics import accuracy_score\n",
        "from sklearn.model_selection import cross_val_score,train_test_split\n",
        "from scipy import stats\n",
        "from sklearn.linear_model import LinearRegression\n",
        "from scipy.special import boxcox1p\n",
        "import csv\n",
        "\n",
        "import warnings\n",
        "warnings.filterwarnings('ignore')"
      ]
    },
    {
      "cell_type": "code",
      "execution_count": 3,
      "metadata": {
        "scrolled": true,
        "colab": {
          "base_uri": "https://localhost:8080/"
        },
        "id": "Ngd0_HjL8-c5",
        "outputId": "3caa80e5-35ab-48f6-8755-4db75a10ee20"
      },
      "outputs": [
        {
          "output_type": "stream",
          "name": "stdout",
          "text": [
            "Environment specification:\n",
            "\n",
            "python 3.11.13\n",
            "numpy 2.0.2\n",
            "scipy 1.15.3\n",
            "seaborn 0.13.2\n",
            "sklearn 1.6.1\n",
            "pandas 2.2.2\n"
          ]
        }
      ],
      "source": [
        "import sys\n",
        "import scipy\n",
        "\n",
        "print('Environment specification:\\n')\n",
        "print('python', '%s.%s.%s' % sys.version_info[:3])\n",
        "\n",
        "for mod in np, scipy, sns, sklearn, pd:\n",
        "    print(mod.__name__, mod.__version__)"
      ]
    },
    {
      "cell_type": "markdown",
      "metadata": {
        "id": "uDHTQsmO8-c6"
      },
      "source": [
        "### Reading CSV file as Dataframe:"
      ]
    },
    {
      "cell_type": "code",
      "source": [
        "# Charger le fichier test.csv depuis GitHub\n",
        "url = \"https://raw.githubusercontent.com/LilianPAGE/ProjetDataScience/main/Projet/train.csv\"\n",
        "data_df = pd.read_csv(url)\n",
        "\n",
        "url = \"https://raw.githubusercontent.com/LilianPAGE/ProjetDataScience/main/Projet/test.csv\"\n",
        "test_df = pd.read_csv(url)"
      ],
      "metadata": {
        "id": "ihYIbs54Cr43"
      },
      "execution_count": 119,
      "outputs": []
    },
    {
      "cell_type": "code",
      "execution_count": 5,
      "metadata": {
        "colab": {
          "base_uri": "https://localhost:8080/",
          "height": 256
        },
        "id": "VA5WwH-F8-c6",
        "outputId": "c3dd0cf6-00ed-4e5a-e76d-76595da794c2"
      },
      "outputs": [
        {
          "output_type": "execute_result",
          "data": {
            "text/plain": [
              "   Id  MSSubClass MSZoning  LotFrontage  LotArea Street Alley LotShape  \\\n",
              "0   1          60       RL         65.0     8450   Pave   NaN      Reg   \n",
              "1   2          20       RL         80.0     9600   Pave   NaN      Reg   \n",
              "2   3          60       RL         68.0    11250   Pave   NaN      IR1   \n",
              "3   4          70       RL         60.0     9550   Pave   NaN      IR1   \n",
              "4   5          60       RL         84.0    14260   Pave   NaN      IR1   \n",
              "\n",
              "  LandContour Utilities  ... PoolArea PoolQC Fence MiscFeature MiscVal MoSold  \\\n",
              "0         Lvl    AllPub  ...        0    NaN   NaN         NaN       0      2   \n",
              "1         Lvl    AllPub  ...        0    NaN   NaN         NaN       0      5   \n",
              "2         Lvl    AllPub  ...        0    NaN   NaN         NaN       0      9   \n",
              "3         Lvl    AllPub  ...        0    NaN   NaN         NaN       0      2   \n",
              "4         Lvl    AllPub  ...        0    NaN   NaN         NaN       0     12   \n",
              "\n",
              "  YrSold  SaleType  SaleCondition  SalePrice  \n",
              "0   2008        WD         Normal   208500.0  \n",
              "1   2007        WD         Normal   181500.0  \n",
              "2   2008        WD         Normal   223500.0  \n",
              "3   2006        WD        Abnorml   140000.0  \n",
              "4   2008        WD         Normal   250000.0  \n",
              "\n",
              "[5 rows x 81 columns]"
            ],
            "text/html": [
              "\n",
              "  <div id=\"df-a17730ca-9c93-499c-b235-9c042e000d08\" class=\"colab-df-container\">\n",
              "    <div>\n",
              "<style scoped>\n",
              "    .dataframe tbody tr th:only-of-type {\n",
              "        vertical-align: middle;\n",
              "    }\n",
              "\n",
              "    .dataframe tbody tr th {\n",
              "        vertical-align: top;\n",
              "    }\n",
              "\n",
              "    .dataframe thead th {\n",
              "        text-align: right;\n",
              "    }\n",
              "</style>\n",
              "<table border=\"1\" class=\"dataframe\">\n",
              "  <thead>\n",
              "    <tr style=\"text-align: right;\">\n",
              "      <th></th>\n",
              "      <th>Id</th>\n",
              "      <th>MSSubClass</th>\n",
              "      <th>MSZoning</th>\n",
              "      <th>LotFrontage</th>\n",
              "      <th>LotArea</th>\n",
              "      <th>Street</th>\n",
              "      <th>Alley</th>\n",
              "      <th>LotShape</th>\n",
              "      <th>LandContour</th>\n",
              "      <th>Utilities</th>\n",
              "      <th>...</th>\n",
              "      <th>PoolArea</th>\n",
              "      <th>PoolQC</th>\n",
              "      <th>Fence</th>\n",
              "      <th>MiscFeature</th>\n",
              "      <th>MiscVal</th>\n",
              "      <th>MoSold</th>\n",
              "      <th>YrSold</th>\n",
              "      <th>SaleType</th>\n",
              "      <th>SaleCondition</th>\n",
              "      <th>SalePrice</th>\n",
              "    </tr>\n",
              "  </thead>\n",
              "  <tbody>\n",
              "    <tr>\n",
              "      <th>0</th>\n",
              "      <td>1</td>\n",
              "      <td>60</td>\n",
              "      <td>RL</td>\n",
              "      <td>65.0</td>\n",
              "      <td>8450</td>\n",
              "      <td>Pave</td>\n",
              "      <td>NaN</td>\n",
              "      <td>Reg</td>\n",
              "      <td>Lvl</td>\n",
              "      <td>AllPub</td>\n",
              "      <td>...</td>\n",
              "      <td>0</td>\n",
              "      <td>NaN</td>\n",
              "      <td>NaN</td>\n",
              "      <td>NaN</td>\n",
              "      <td>0</td>\n",
              "      <td>2</td>\n",
              "      <td>2008</td>\n",
              "      <td>WD</td>\n",
              "      <td>Normal</td>\n",
              "      <td>208500.0</td>\n",
              "    </tr>\n",
              "    <tr>\n",
              "      <th>1</th>\n",
              "      <td>2</td>\n",
              "      <td>20</td>\n",
              "      <td>RL</td>\n",
              "      <td>80.0</td>\n",
              "      <td>9600</td>\n",
              "      <td>Pave</td>\n",
              "      <td>NaN</td>\n",
              "      <td>Reg</td>\n",
              "      <td>Lvl</td>\n",
              "      <td>AllPub</td>\n",
              "      <td>...</td>\n",
              "      <td>0</td>\n",
              "      <td>NaN</td>\n",
              "      <td>NaN</td>\n",
              "      <td>NaN</td>\n",
              "      <td>0</td>\n",
              "      <td>5</td>\n",
              "      <td>2007</td>\n",
              "      <td>WD</td>\n",
              "      <td>Normal</td>\n",
              "      <td>181500.0</td>\n",
              "    </tr>\n",
              "    <tr>\n",
              "      <th>2</th>\n",
              "      <td>3</td>\n",
              "      <td>60</td>\n",
              "      <td>RL</td>\n",
              "      <td>68.0</td>\n",
              "      <td>11250</td>\n",
              "      <td>Pave</td>\n",
              "      <td>NaN</td>\n",
              "      <td>IR1</td>\n",
              "      <td>Lvl</td>\n",
              "      <td>AllPub</td>\n",
              "      <td>...</td>\n",
              "      <td>0</td>\n",
              "      <td>NaN</td>\n",
              "      <td>NaN</td>\n",
              "      <td>NaN</td>\n",
              "      <td>0</td>\n",
              "      <td>9</td>\n",
              "      <td>2008</td>\n",
              "      <td>WD</td>\n",
              "      <td>Normal</td>\n",
              "      <td>223500.0</td>\n",
              "    </tr>\n",
              "    <tr>\n",
              "      <th>3</th>\n",
              "      <td>4</td>\n",
              "      <td>70</td>\n",
              "      <td>RL</td>\n",
              "      <td>60.0</td>\n",
              "      <td>9550</td>\n",
              "      <td>Pave</td>\n",
              "      <td>NaN</td>\n",
              "      <td>IR1</td>\n",
              "      <td>Lvl</td>\n",
              "      <td>AllPub</td>\n",
              "      <td>...</td>\n",
              "      <td>0</td>\n",
              "      <td>NaN</td>\n",
              "      <td>NaN</td>\n",
              "      <td>NaN</td>\n",
              "      <td>0</td>\n",
              "      <td>2</td>\n",
              "      <td>2006</td>\n",
              "      <td>WD</td>\n",
              "      <td>Abnorml</td>\n",
              "      <td>140000.0</td>\n",
              "    </tr>\n",
              "    <tr>\n",
              "      <th>4</th>\n",
              "      <td>5</td>\n",
              "      <td>60</td>\n",
              "      <td>RL</td>\n",
              "      <td>84.0</td>\n",
              "      <td>14260</td>\n",
              "      <td>Pave</td>\n",
              "      <td>NaN</td>\n",
              "      <td>IR1</td>\n",
              "      <td>Lvl</td>\n",
              "      <td>AllPub</td>\n",
              "      <td>...</td>\n",
              "      <td>0</td>\n",
              "      <td>NaN</td>\n",
              "      <td>NaN</td>\n",
              "      <td>NaN</td>\n",
              "      <td>0</td>\n",
              "      <td>12</td>\n",
              "      <td>2008</td>\n",
              "      <td>WD</td>\n",
              "      <td>Normal</td>\n",
              "      <td>250000.0</td>\n",
              "    </tr>\n",
              "  </tbody>\n",
              "</table>\n",
              "<p>5 rows × 81 columns</p>\n",
              "</div>\n",
              "    <div class=\"colab-df-buttons\">\n",
              "\n",
              "  <div class=\"colab-df-container\">\n",
              "    <button class=\"colab-df-convert\" onclick=\"convertToInteractive('df-a17730ca-9c93-499c-b235-9c042e000d08')\"\n",
              "            title=\"Convert this dataframe to an interactive table.\"\n",
              "            style=\"display:none;\">\n",
              "\n",
              "  <svg xmlns=\"http://www.w3.org/2000/svg\" height=\"24px\" viewBox=\"0 -960 960 960\">\n",
              "    <path d=\"M120-120v-720h720v720H120Zm60-500h600v-160H180v160Zm220 220h160v-160H400v160Zm0 220h160v-160H400v160ZM180-400h160v-160H180v160Zm440 0h160v-160H620v160ZM180-180h160v-160H180v160Zm440 0h160v-160H620v160Z\"/>\n",
              "  </svg>\n",
              "    </button>\n",
              "\n",
              "  <style>\n",
              "    .colab-df-container {\n",
              "      display:flex;\n",
              "      gap: 12px;\n",
              "    }\n",
              "\n",
              "    .colab-df-convert {\n",
              "      background-color: #E8F0FE;\n",
              "      border: none;\n",
              "      border-radius: 50%;\n",
              "      cursor: pointer;\n",
              "      display: none;\n",
              "      fill: #1967D2;\n",
              "      height: 32px;\n",
              "      padding: 0 0 0 0;\n",
              "      width: 32px;\n",
              "    }\n",
              "\n",
              "    .colab-df-convert:hover {\n",
              "      background-color: #E2EBFA;\n",
              "      box-shadow: 0px 1px 2px rgba(60, 64, 67, 0.3), 0px 1px 3px 1px rgba(60, 64, 67, 0.15);\n",
              "      fill: #174EA6;\n",
              "    }\n",
              "\n",
              "    .colab-df-buttons div {\n",
              "      margin-bottom: 4px;\n",
              "    }\n",
              "\n",
              "    [theme=dark] .colab-df-convert {\n",
              "      background-color: #3B4455;\n",
              "      fill: #D2E3FC;\n",
              "    }\n",
              "\n",
              "    [theme=dark] .colab-df-convert:hover {\n",
              "      background-color: #434B5C;\n",
              "      box-shadow: 0px 1px 3px 1px rgba(0, 0, 0, 0.15);\n",
              "      filter: drop-shadow(0px 1px 2px rgba(0, 0, 0, 0.3));\n",
              "      fill: #FFFFFF;\n",
              "    }\n",
              "  </style>\n",
              "\n",
              "    <script>\n",
              "      const buttonEl =\n",
              "        document.querySelector('#df-a17730ca-9c93-499c-b235-9c042e000d08 button.colab-df-convert');\n",
              "      buttonEl.style.display =\n",
              "        google.colab.kernel.accessAllowed ? 'block' : 'none';\n",
              "\n",
              "      async function convertToInteractive(key) {\n",
              "        const element = document.querySelector('#df-a17730ca-9c93-499c-b235-9c042e000d08');\n",
              "        const dataTable =\n",
              "          await google.colab.kernel.invokeFunction('convertToInteractive',\n",
              "                                                    [key], {});\n",
              "        if (!dataTable) return;\n",
              "\n",
              "        const docLinkHtml = 'Like what you see? Visit the ' +\n",
              "          '<a target=\"_blank\" href=https://colab.research.google.com/notebooks/data_table.ipynb>data table notebook</a>'\n",
              "          + ' to learn more about interactive tables.';\n",
              "        element.innerHTML = '';\n",
              "        dataTable['output_type'] = 'display_data';\n",
              "        await google.colab.output.renderOutput(dataTable, element);\n",
              "        const docLink = document.createElement('div');\n",
              "        docLink.innerHTML = docLinkHtml;\n",
              "        element.appendChild(docLink);\n",
              "      }\n",
              "    </script>\n",
              "  </div>\n",
              "\n",
              "\n",
              "    <div id=\"df-8f6057ba-c519-4401-8bd4-d2ebd1bdfefb\">\n",
              "      <button class=\"colab-df-quickchart\" onclick=\"quickchart('df-8f6057ba-c519-4401-8bd4-d2ebd1bdfefb')\"\n",
              "                title=\"Suggest charts\"\n",
              "                style=\"display:none;\">\n",
              "\n",
              "<svg xmlns=\"http://www.w3.org/2000/svg\" height=\"24px\"viewBox=\"0 0 24 24\"\n",
              "     width=\"24px\">\n",
              "    <g>\n",
              "        <path d=\"M19 3H5c-1.1 0-2 .9-2 2v14c0 1.1.9 2 2 2h14c1.1 0 2-.9 2-2V5c0-1.1-.9-2-2-2zM9 17H7v-7h2v7zm4 0h-2V7h2v10zm4 0h-2v-4h2v4z\"/>\n",
              "    </g>\n",
              "</svg>\n",
              "      </button>\n",
              "\n",
              "<style>\n",
              "  .colab-df-quickchart {\n",
              "      --bg-color: #E8F0FE;\n",
              "      --fill-color: #1967D2;\n",
              "      --hover-bg-color: #E2EBFA;\n",
              "      --hover-fill-color: #174EA6;\n",
              "      --disabled-fill-color: #AAA;\n",
              "      --disabled-bg-color: #DDD;\n",
              "  }\n",
              "\n",
              "  [theme=dark] .colab-df-quickchart {\n",
              "      --bg-color: #3B4455;\n",
              "      --fill-color: #D2E3FC;\n",
              "      --hover-bg-color: #434B5C;\n",
              "      --hover-fill-color: #FFFFFF;\n",
              "      --disabled-bg-color: #3B4455;\n",
              "      --disabled-fill-color: #666;\n",
              "  }\n",
              "\n",
              "  .colab-df-quickchart {\n",
              "    background-color: var(--bg-color);\n",
              "    border: none;\n",
              "    border-radius: 50%;\n",
              "    cursor: pointer;\n",
              "    display: none;\n",
              "    fill: var(--fill-color);\n",
              "    height: 32px;\n",
              "    padding: 0;\n",
              "    width: 32px;\n",
              "  }\n",
              "\n",
              "  .colab-df-quickchart:hover {\n",
              "    background-color: var(--hover-bg-color);\n",
              "    box-shadow: 0 1px 2px rgba(60, 64, 67, 0.3), 0 1px 3px 1px rgba(60, 64, 67, 0.15);\n",
              "    fill: var(--button-hover-fill-color);\n",
              "  }\n",
              "\n",
              "  .colab-df-quickchart-complete:disabled,\n",
              "  .colab-df-quickchart-complete:disabled:hover {\n",
              "    background-color: var(--disabled-bg-color);\n",
              "    fill: var(--disabled-fill-color);\n",
              "    box-shadow: none;\n",
              "  }\n",
              "\n",
              "  .colab-df-spinner {\n",
              "    border: 2px solid var(--fill-color);\n",
              "    border-color: transparent;\n",
              "    border-bottom-color: var(--fill-color);\n",
              "    animation:\n",
              "      spin 1s steps(1) infinite;\n",
              "  }\n",
              "\n",
              "  @keyframes spin {\n",
              "    0% {\n",
              "      border-color: transparent;\n",
              "      border-bottom-color: var(--fill-color);\n",
              "      border-left-color: var(--fill-color);\n",
              "    }\n",
              "    20% {\n",
              "      border-color: transparent;\n",
              "      border-left-color: var(--fill-color);\n",
              "      border-top-color: var(--fill-color);\n",
              "    }\n",
              "    30% {\n",
              "      border-color: transparent;\n",
              "      border-left-color: var(--fill-color);\n",
              "      border-top-color: var(--fill-color);\n",
              "      border-right-color: var(--fill-color);\n",
              "    }\n",
              "    40% {\n",
              "      border-color: transparent;\n",
              "      border-right-color: var(--fill-color);\n",
              "      border-top-color: var(--fill-color);\n",
              "    }\n",
              "    60% {\n",
              "      border-color: transparent;\n",
              "      border-right-color: var(--fill-color);\n",
              "    }\n",
              "    80% {\n",
              "      border-color: transparent;\n",
              "      border-right-color: var(--fill-color);\n",
              "      border-bottom-color: var(--fill-color);\n",
              "    }\n",
              "    90% {\n",
              "      border-color: transparent;\n",
              "      border-bottom-color: var(--fill-color);\n",
              "    }\n",
              "  }\n",
              "</style>\n",
              "\n",
              "      <script>\n",
              "        async function quickchart(key) {\n",
              "          const quickchartButtonEl =\n",
              "            document.querySelector('#' + key + ' button');\n",
              "          quickchartButtonEl.disabled = true;  // To prevent multiple clicks.\n",
              "          quickchartButtonEl.classList.add('colab-df-spinner');\n",
              "          try {\n",
              "            const charts = await google.colab.kernel.invokeFunction(\n",
              "                'suggestCharts', [key], {});\n",
              "          } catch (error) {\n",
              "            console.error('Error during call to suggestCharts:', error);\n",
              "          }\n",
              "          quickchartButtonEl.classList.remove('colab-df-spinner');\n",
              "          quickchartButtonEl.classList.add('colab-df-quickchart-complete');\n",
              "        }\n",
              "        (() => {\n",
              "          let quickchartButtonEl =\n",
              "            document.querySelector('#df-8f6057ba-c519-4401-8bd4-d2ebd1bdfefb button');\n",
              "          quickchartButtonEl.style.display =\n",
              "            google.colab.kernel.accessAllowed ? 'block' : 'none';\n",
              "        })();\n",
              "      </script>\n",
              "    </div>\n",
              "\n",
              "    </div>\n",
              "  </div>\n"
            ],
            "application/vnd.google.colaboratory.intrinsic+json": {
              "type": "dataframe",
              "variable_name": "all_data"
            }
          },
          "metadata": {},
          "execution_count": 5
        }
      ],
      "source": [
        "all_data = pd.concat((data_df.loc[:,:], test_df.loc[:, :]))\n",
        "all_data.head()"
      ]
    },
    {
      "cell_type": "markdown",
      "source": [
        "## Description des variables du dataset\n",
        "\n",
        "- **SalePrice** : Prix de vente du bien en dollars. **Variable cible** à prédire.\n",
        "- **MSSubClass** : Classe du bâtiment\n",
        "- **MSZoning** : Classification générale du zonage\n",
        "- **LotFrontage** : Longueur de la rue connectée à la propriété (pieds linéaires)\n",
        "- **LotArea** : Surface du terrain (en pieds²)\n",
        "- **Street** : Type d’accès routier\n",
        "- **Alley** : Type d’accès par une allée\n",
        "- **LotShape** : Forme générale du terrain\n",
        "- **LandContour** : Platitude du terrain\n",
        "- **Utilities** : Services publics disponibles\n",
        "- **LotConfig** : Configuration du terrain\n",
        "- **LandSlope** : Pente du terrain\n",
        "- **Neighborhood** : Quartier dans les limites de la ville d’Ames\n",
        "- **Condition1** : Proximité d’une route ou voie ferrée\n",
        "- **Condition2** : Proximité d’un second axe routier ou voie ferrée\n",
        "- **BldgType** : Type de logement\n",
        "- **HouseStyle** : Style de logement\n",
        "- **OverallQual** : Qualité globale des matériaux et finitions\n",
        "- **OverallCond** : État général du bien\n",
        "- **YearBuilt** : Année de construction initiale\n",
        "- **YearRemodAdd** : Année de rénovation\n",
        "- **RoofStyle** : Type de toiture\n",
        "- **RoofMatl** : Matériau de toiture\n",
        "- **Exterior1st** : Revêtement extérieur principal\n",
        "- **Exterior2nd** : Second revêtement extérieur (si présent)\n",
        "- **MasVnrType** : Type de maçonnerie de parement\n",
        "- **MasVnrArea** : Surface de parement (en pieds²)\n",
        "- **ExterQual** : Qualité des matériaux extérieurs\n",
        "- **ExterCond** : État des matériaux extérieurs\n",
        "- **Foundation** : Type de fondation\n",
        "- **BsmtQual** : Hauteur du sous-sol\n",
        "- **BsmtCond** : État général du sous-sol\n",
        "- **BsmtExposure** : Présence de murs avec sortie extérieure\n",
        "- **BsmtFinType1** : Qualité de la zone finie principale du sous-sol\n",
        "- **BsmtFinSF1** : Surface finie de type 1\n",
        "- **BsmtFinType2** : Qualité de la deuxième zone finie\n",
        "- **BsmtFinSF2** : Surface finie de type 2\n",
        "- **BsmtUnfSF** : Surface non finie du sous-sol\n",
        "- **TotalBsmtSF** : Surface totale du sous-sol\n",
        "- **Heating** : Type de chauffage\n",
        "- **HeatingQC** : Qualité et état du système de chauffage\n",
        "- **CentralAir** : Présence de climatisation centrale\n",
        "- **Electrical** : Système électrique\n",
        "- **1stFlrSF** : Surface du 1er étage (en pieds²)\n",
        "- **2ndFlrSF** : Surface du 2ᵉ étage (en pieds²)\n",
        "- **LowQualFinSF** : Surface finie de basse qualité\n",
        "- **GrLivArea** : Surface habitable au-dessus du sol\n",
        "- **BsmtFullBath** : Salles de bain complètes au sous-sol\n",
        "- **BsmtHalfBath** : Demi-salles de bain au sous-sol\n",
        "- **FullBath** : Salles de bain complètes au-dessus du sous-sol\n",
        "- **HalfBath** : Demi-salles de bain au-dessus du sous-sol\n",
        "- **Bedroom** : Nombre de chambres (hors sous-sol)\n",
        "- **Kitchen** : Nombre de cuisines\n",
        "- **KitchenQual** : Qualité de la cuisine\n",
        "- **TotRmsAbvGrd** : Nombre total de pièces hors sous-sol (hors salles de bain)\n",
        "- **Functional** : Évaluation de la fonctionnalité de la maison\n",
        "- **Fireplaces** : Nombre de cheminées\n",
        "- **FireplaceQu** : Qualité de la cheminée\n",
        "- **GarageType** : Localisation du garage\n",
        "- **GarageYrBlt** : Année de construction du garage\n",
        "- **GarageFinish** : Finition intérieure du garage\n",
        "- **GarageCars** : Capacité du garage (en nombre de voitures)\n",
        "- **GarageArea** : Surface du garage (en pieds²)\n",
        "- **GarageQual** : Qualité du garage\n",
        "- **GarageCond** : État du garage\n",
        "- **PavedDrive** : Allée pavée\n",
        "- **WoodDeckSF** : Surface de la terrasse en bois (pieds²)\n",
        "- **OpenPorchSF** : Surface de la véranda ouverte (pieds²)\n",
        "- **EnclosedPorch** : Surface de la véranda fermée (pieds²)\n",
        "- **3SsnPorch** : Surface de la véranda 3 saisons (pieds²)\n",
        "- **ScreenPorch** : Surface de la véranda moustiquaire (pieds²)\n",
        "- **PoolArea** : Surface de la piscine (pieds²)\n",
        "- **PoolQC** : Qualité de la piscine\n",
        "- **Fence** : Qualité de la clôture\n",
        "- **MiscFeature** : Autres éléments non classés ailleurs\n",
        "- **MiscVal** : Valeur ($) des éléments divers\n",
        "- **MoSold** : Mois de vente\n",
        "- **YrSold** : Année de vente\n",
        "- **SaleType** : Type de vente\n",
        "- **SaleCondition** : Condition de la vente"
      ],
      "metadata": {
        "id": "YRSOZPCj-nvS"
      }
    },
    {
      "cell_type": "markdown",
      "metadata": {
        "id": "6KWkb36E8-c6"
      },
      "source": [
        "## Analyse exploratoire des données et nettoyage\n"
      ]
    },
    {
      "cell_type": "markdown",
      "metadata": {
        "id": "zVXcL-pb8-c6"
      },
      "source": [
        "On a remarqué que le jeu de données contient 38 colonnes numériques sur un total de 81 colonnes.\n",
        "\n",
        "De plus, certaines colonnes contiennent des données manquantes, comme par exemple \"LotFrontage\" et \"MasVnrArea\"."
      ]
    },
    {
      "cell_type": "markdown",
      "metadata": {
        "id": "e2gPdbDS8-c6"
      },
      "source": [
        "**La variable cible à prédire est 'SalePrice'. Examinons de plus près cette colonne.**"
      ]
    },
    {
      "cell_type": "code",
      "execution_count": 6,
      "metadata": {
        "colab": {
          "base_uri": "https://localhost:8080/",
          "height": 335
        },
        "id": "zD_DzMWM8-c7",
        "outputId": "96631dfd-0351-4958-d2fd-7a624911245d"
      },
      "outputs": [
        {
          "output_type": "execute_result",
          "data": {
            "text/plain": [
              "count      1460.000000\n",
              "mean     180921.195890\n",
              "std       79442.502883\n",
              "min       34900.000000\n",
              "25%      129975.000000\n",
              "50%      163000.000000\n",
              "75%      214000.000000\n",
              "max      755000.000000\n",
              "Name: SalePrice, dtype: float64"
            ],
            "text/html": [
              "<div>\n",
              "<style scoped>\n",
              "    .dataframe tbody tr th:only-of-type {\n",
              "        vertical-align: middle;\n",
              "    }\n",
              "\n",
              "    .dataframe tbody tr th {\n",
              "        vertical-align: top;\n",
              "    }\n",
              "\n",
              "    .dataframe thead th {\n",
              "        text-align: right;\n",
              "    }\n",
              "</style>\n",
              "<table border=\"1\" class=\"dataframe\">\n",
              "  <thead>\n",
              "    <tr style=\"text-align: right;\">\n",
              "      <th></th>\n",
              "      <th>SalePrice</th>\n",
              "    </tr>\n",
              "  </thead>\n",
              "  <tbody>\n",
              "    <tr>\n",
              "      <th>count</th>\n",
              "      <td>1460.000000</td>\n",
              "    </tr>\n",
              "    <tr>\n",
              "      <th>mean</th>\n",
              "      <td>180921.195890</td>\n",
              "    </tr>\n",
              "    <tr>\n",
              "      <th>std</th>\n",
              "      <td>79442.502883</td>\n",
              "    </tr>\n",
              "    <tr>\n",
              "      <th>min</th>\n",
              "      <td>34900.000000</td>\n",
              "    </tr>\n",
              "    <tr>\n",
              "      <th>25%</th>\n",
              "      <td>129975.000000</td>\n",
              "    </tr>\n",
              "    <tr>\n",
              "      <th>50%</th>\n",
              "      <td>163000.000000</td>\n",
              "    </tr>\n",
              "    <tr>\n",
              "      <th>75%</th>\n",
              "      <td>214000.000000</td>\n",
              "    </tr>\n",
              "    <tr>\n",
              "      <th>max</th>\n",
              "      <td>755000.000000</td>\n",
              "    </tr>\n",
              "  </tbody>\n",
              "</table>\n",
              "</div><br><label><b>dtype:</b> float64</label>"
            ]
          },
          "metadata": {},
          "execution_count": 6
        }
      ],
      "source": [
        "# Basic summary:\n",
        "data_df['SalePrice'].describe()"
      ]
    },
    {
      "cell_type": "code",
      "execution_count": 7,
      "metadata": {
        "colab": {
          "base_uri": "https://localhost:8080/",
          "height": 431
        },
        "id": "mJ22zlUs8-c7",
        "outputId": "9c13d013-0b06-4ab6-bf6e-d73be7b9119e"
      },
      "outputs": [
        {
          "output_type": "execute_result",
          "data": {
            "text/plain": [
              "<Axes: ylabel='SalePrice'>"
            ]
          },
          "metadata": {},
          "execution_count": 7
        },
        {
          "output_type": "display_data",
          "data": {
            "text/plain": [
              "<Figure size 640x480 with 1 Axes>"
            ],
            "image/png": "[encoded data removed]"
          },
          "metadata": {}
        }
      ],
      "source": [
        "sns.boxplot(data_df['SalePrice'])"
      ]
    },
    {
      "cell_type": "markdown",
      "metadata": {
        "id": "NfQYr42d8-c7"
      },
      "source": [
        "Il y a deux valeurs aberrantes (outliers) avec des prix supérieurs à 700 000."
      ]
    },
    {
      "cell_type": "code",
      "execution_count": 8,
      "metadata": {
        "colab": {
          "base_uri": "https://localhost:8080/",
          "height": 482
        },
        "id": "JIMiGTGH8-c7",
        "outputId": "617889d7-1326-44d5-9b90-615c9b5780f9"
      },
      "outputs": [
        {
          "output_type": "execute_result",
          "data": {
            "text/plain": [
              "<Axes: xlabel='SalePrice', ylabel='Density'>"
            ]
          },
          "metadata": {},
          "execution_count": 8
        },
        {
          "output_type": "display_data",
          "data": {
            "text/plain": [
              "<Figure size 640x480 with 1 Axes>"
            ],
            "image/png": "[encoded data removed]"
          },
          "metadata": {}
        }
      ],
      "source": [
        "# The Density Plot of SalePrice\n",
        "sns.distplot(data_df['SalePrice'])"
      ]
    },
    {
      "cell_type": "markdown",
      "metadata": {
        "id": "eHzCU7Rt8-c7"
      },
      "source": [
        "On a remarqué que la distribution est asymétrique vers la droite, avec un pic autour de 160 000 et une longue traîne allant jusqu’à environ 800K."
      ]
    },
    {
      "cell_type": "code",
      "execution_count": 9,
      "metadata": {
        "colab": {
          "base_uri": "https://localhost:8080/"
        },
        "id": "jrSGvXsI8-c7",
        "outputId": "1eb66c0f-0440-4959-ebe4-abd11f1bef37"
      },
      "outputs": [
        {
          "output_type": "execute_result",
          "data": {
            "text/plain": [
              "np.float64(1.8828757597682129)"
            ]
          },
          "metadata": {},
          "execution_count": 9
        }
      ],
      "source": [
        "# Positive Skeweness:\n",
        "data_df['SalePrice'].skew()"
      ]
    },
    {
      "cell_type": "markdown",
      "metadata": {
        "id": "PGzzObx18-c7"
      },
      "source": [
        "Afin de rendre la distribution de SalePrice plus proche d’une distribution normale, j’ai appliqué une transformation logarithmique."
      ]
    },
    {
      "cell_type": "code",
      "execution_count": 10,
      "metadata": {
        "id": "E-y14z_M8-c7"
      },
      "outputs": [],
      "source": [
        "data_df[\"SalePrice\"] = np.log1p(data_df[\"SalePrice\"])"
      ]
    },
    {
      "cell_type": "code",
      "execution_count": 11,
      "metadata": {
        "colab": {
          "base_uri": "https://localhost:8080/",
          "height": 489
        },
        "id": "maJoNJZG8-c7",
        "outputId": "42aed102-a356-41e8-96d4-0f48379e6696"
      },
      "outputs": [
        {
          "output_type": "execute_result",
          "data": {
            "text/plain": [
              "Text(0.5, 1.0, 'Courbe de densité de SalePrice après transformation logarithmique.')"
            ]
          },
          "metadata": {},
          "execution_count": 11
        },
        {
          "output_type": "display_data",
          "data": {
            "text/plain": [
              "<Figure size 640x480 with 1 Axes>"
            ],
            "image/png": "[encoded data removed]"
          },
          "metadata": {}
        }
      ],
      "source": [
        "# SalePrice after Log-transformation\n",
        "sns.distplot(data_df[\"SalePrice\"])\n",
        "plt.title(\"Courbe de densité de SalePrice après transformation logarithmique.\")"
      ]
    },
    {
      "cell_type": "code",
      "execution_count": 12,
      "metadata": {
        "id": "sv4TGPaF8-c7"
      },
      "outputs": [],
      "source": [
        "y_train = data_df[\"SalePrice\"]"
      ]
    },
    {
      "cell_type": "code",
      "execution_count": 13,
      "metadata": {
        "id": "_QKzzXzZ8-c8"
      },
      "outputs": [],
      "source": [
        "col_nan = data_df.isna().sum() / data_df.shape[0]"
      ]
    },
    {
      "cell_type": "code",
      "execution_count": 14,
      "metadata": {
        "colab": {
          "base_uri": "https://localhost:8080/",
          "height": 493
        },
        "id": "ANwdiygI8-c8",
        "outputId": "a9907a6b-d089-48cf-a88e-79a8e7fab6e7"
      },
      "outputs": [
        {
          "output_type": "execute_result",
          "data": {
            "text/plain": [
              "Text(0.5, 1.0, 'Colonnes avec le plus fort pourcentage de valeurs manquantes (NaN)')"
            ]
          },
          "metadata": {},
          "execution_count": 14
        },
        {
          "output_type": "display_data",
          "data": {
            "text/plain": [
              "<Figure size 800x500 with 1 Axes>"
            ],
            "image/png": "[encoded data removed]"
          },
          "metadata": {}
        }
      ],
      "source": [
        "plt.figure(figsize=(8, 5))\n",
        "sns.set(font_scale=1.2)\n",
        "col_nan[col_nan > 0.01].plot(kind = \"barh\")\n",
        "plt.title(\"Colonnes avec le plus fort pourcentage de valeurs manquantes (NaN)\")"
      ]
    },
    {
      "cell_type": "code",
      "execution_count": 15,
      "metadata": {
        "colab": {
          "base_uri": "https://localhost:8080/",
          "height": 35
        },
        "id": "S1Bi_DiC8-c8",
        "outputId": "e84cc010-5ec7-4179-f34e-d2e147adb362"
      },
      "outputs": [
        {
          "output_type": "execute_result",
          "data": {
            "text/plain": [
              "'Dans certains essais, on a supprimé les colonnes contenant plus de 90 % de valeurs manquantes,\\nmais finalement, on les a conservées pour une analyse ultérieure.'"
            ],
            "application/vnd.google.colaboratory.intrinsic+json": {
              "type": "string"
            }
          },
          "metadata": {},
          "execution_count": 15
        }
      ],
      "source": [
        "\"\"\"Dans certains essais, on a supprimé les colonnes contenant plus de 90 % de valeurs manquantes,\n",
        "mais finalement, on les a conservées pour une analyse ultérieure.\"\"\"\n",
        "\n",
        "# drop_out_columns = data_df.columns[[inx for inx, i in enumerate(col_nan >= 0.95) if i==True]]\n",
        "# data_df = data_df.drop(drop_out_columns, axis=1)\n",
        "# test_df = test_df.drop(drop_out_columns, axis=1)"
      ]
    },
    {
      "cell_type": "markdown",
      "metadata": {
        "id": "r1ekvdk18-c8"
      },
      "source": [
        "**Removing Id column**"
      ]
    },
    {
      "cell_type": "code",
      "execution_count": 16,
      "metadata": {
        "id": "5ObjxyIF8-c8"
      },
      "outputs": [],
      "source": [
        "# Dropping columns for both train and test dataset\n",
        "data_df = data_df.drop(\"Id\", axis=1)\n",
        "test_df = test_df.drop(\"Id\", axis=1)"
      ]
    },
    {
      "cell_type": "markdown",
      "metadata": {
        "id": "xawaGxzX8-c8"
      },
      "source": [
        "**Suppression des colonnes dont toutes les valeurs sont identiques (100 % identiques)**"
      ]
    },
    {
      "cell_type": "markdown",
      "metadata": {
        "id": "ZbbE3Vnm8-c8"
      },
      "source": [
        "D’après les statistiques de base fournies sur le site de la compétition Kaggle, les colonnes Street et Utilities contiennent chacune une seule valeur, respectivement \"Pave\" et \"AllPub\"."
      ]
    },
    {
      "cell_type": "code",
      "execution_count": 17,
      "metadata": {
        "id": "3qG6UXOc8-c8"
      },
      "outputs": [],
      "source": [
        "data_df = data_df.drop([\"Street\", \"Utilities\"], axis=1)\n",
        "test_df = test_df.drop([\"Street\", \"Utilities\"], axis=1)"
      ]
    },
    {
      "cell_type": "markdown",
      "metadata": {
        "id": "KwFYeFdk8-c8"
      },
      "source": [
        " **Suppression des valeurs aberrantes**"
      ]
    },
    {
      "cell_type": "markdown",
      "metadata": {
        "id": "W4Gj1xo18-c8"
      },
      "source": [
        "La suppression des valeurs aberrantes est une étape importante dans l’analyse des données.\n",
        "Cependant, en apprentissage automatique, il faut être prudent lors de cette suppression, car on ne sait pas s’il n’y a pas aussi des outliers dans le jeu de test.\n",
        "\n",
        "Pour ce jeu de données, nous avons utilisé deux techniques : une plus rigoureuse et une moins rigoureuse."
      ]
    },
    {
      "cell_type": "markdown",
      "metadata": {
        "id": "OLNcZ5g_8-c8"
      },
      "source": [
        "La première méthode était la méthode du score Z. Les scores Z sont exprimés en termes d’écarts-types par rapport à leur moyenne.\n",
        "Ainsi, ces scores Z suivent une distribution avec une moyenne de 0 et un écart-type de 1.\n",
        "Nous avons fixé un seuil à 3 pour identifier les valeurs aberrantes.\n",
        "$$ z = \\frac{x - \\mu}{\\sigma} $$\n"
      ]
    },
    {
      "cell_type": "code",
      "execution_count": 18,
      "metadata": {
        "id": "K05J0Go-8-c8"
      },
      "outputs": [],
      "source": [
        "def remove_outliers(dataset, threshold, columns=None, removed = False):\n",
        "    if columns==None:\n",
        "        numerics = ['int64','float64']\n",
        "        columns = dataset.select_dtypes(include=numerics).columns\n",
        "\n",
        "    tmp = dataset.copy()\n",
        "    z = np.abs(stats.zscore(tmp[columns]))\n",
        "    outliers = [row.any() for row in (z > threshold)]\n",
        "    outliers_idxs = tmp.index[outliers].tolist()\n",
        "    print(\"Number of removed rows = {}\".format(len(outliers_idxs)))\n",
        "    if removed: return dataset.drop(outliers_idxs), tmp.loc[outliers]\n",
        "    else: return dataset.drop(outliers_idxs)"
      ]
    },
    {
      "cell_type": "code",
      "execution_count": 19,
      "metadata": {
        "id": "NdwSKFco8-c8"
      },
      "outputs": [],
      "source": [
        "# clear_data is a dataframe with train data after removing outliers\n",
        "\n",
        "# clear_data, removed_data = remove_outliers(data_df, threshold = 3, removed=True,\n",
        "#                              columns=['GrLivArea'])"
      ]
    },
    {
      "cell_type": "markdown",
      "metadata": {
        "id": "bTv4XUx18-c8"
      },
      "source": [
        "Enfin, après quelques essais, nous avons utilisé une méthode moins rigoureuse.\n",
        "Nous avons simplement réalisé un graphique de SalePrice en fonction de GrLivArea et retiré les points qui semblaient être des valeurs aberrantes."
      ]
    },
    {
      "cell_type": "markdown",
      "metadata": {
        "id": "RJxdNXLa8-c8"
      },
      "source": [
        "**Suppression des valeurs aberrantes selon GrLivArea**"
      ]
    },
    {
      "cell_type": "code",
      "execution_count": 20,
      "metadata": {
        "colab": {
          "base_uri": "https://localhost:8080/",
          "height": 501
        },
        "id": "scdU2v-T8-c8",
        "outputId": "674bd8f4-81ed-4f04-a443-423ab0d3c707"
      },
      "outputs": [
        {
          "output_type": "display_data",
          "data": {
            "text/plain": [
              "<Figure size 800x500 with 1 Axes>"
            ],
            "image/png": "[encoded data removed]"
          },
          "metadata": {}
        }
      ],
      "source": [
        "plt.figure(figsize=(8, 5))\n",
        "sns.set(font_scale=1.2)\n",
        "\n",
        "# Corrigé : préciser les arguments x et y nommément\n",
        "sns.scatterplot(x=data_df[\"GrLivArea\"], y=data_df[\"SalePrice\"])\n",
        "\n",
        "# plt.vlines(4500, ymax=800000, ymin=0)  # Optionnel, ligne verticale\n",
        "plt.title(\"Supperficie vs Prix de vente\")\n",
        "plt.show()"
      ]
    },
    {
      "cell_type": "code",
      "execution_count": 21,
      "metadata": {
        "id": "192ykugJ8-c8"
      },
      "outputs": [],
      "source": [
        "#Nous avons décidé de supprimer les enregistrements où la valeur de GrLivArea est supérieure à 4500.\n",
        "#Comme on peut le voir sur le graphique, ces observations ont un prix très faible.\n",
        "clear_data = data_df.drop(data_df[(data_df['GrLivArea']>4500)].index)"
      ]
    },
    {
      "cell_type": "code",
      "execution_count": 22,
      "metadata": {
        "id": "N3TDZA648-c-"
      },
      "outputs": [],
      "source": [
        "#Concaténer toutes les données ensemble — à la fois les jeux d’entraînement et de test.\n",
        "train_ = clear_data.drop(['SalePrice'], axis=1)\n",
        "all_data = pd.concat([data_df, test_df]).reset_index(drop=True)"
      ]
    },
    {
      "cell_type": "markdown",
      "metadata": {
        "id": "Bpe-nbtA8-c_"
      },
      "source": [
        "**La variable GarageYrBlt (Année de construction)**"
      ]
    },
    {
      "cell_type": "markdown",
      "metadata": {
        "id": "K5O1IjPa8-c_"
      },
      "source": [
        "Nous avons vérifié s’il y avait des enregistrements où les valeurs de YearBuilt ou GarageYrBlt dépassaient l’année 2017."
      ]
    },
    {
      "cell_type": "code",
      "execution_count": 23,
      "metadata": {
        "colab": {
          "base_uri": "https://localhost:8080/"
        },
        "id": "v-v1pQwM8-c_",
        "outputId": "54c2997a-87ca-4761-d1d0-f6f3814e0900"
      },
      "outputs": [
        {
          "output_type": "stream",
          "name": "stdout",
          "text": [
            "Y a-t-il des valeurs de YearBuilt supérieures à 2017 ? :  False\n",
            "Y a-t-il des valeurs de GarageYrBlt supérieures à 2017 ? :  True\n"
          ]
        }
      ],
      "source": [
        "print(\"Y a-t-il des valeurs de YearBuilt supérieures à 2017 ? : \", all_data[all_data.YearBuilt > 2017].count()[0] != 0)\n",
        "print(\"Y a-t-il des valeurs de GarageYrBlt supérieures à 2017 ? : \", all_data[all_data.GarageYrBlt > 2017].count()[0] != 0)"
      ]
    },
    {
      "cell_type": "code",
      "execution_count": 24,
      "metadata": {
        "colab": {
          "base_uri": "https://localhost:8080/",
          "height": 115
        },
        "id": "KKsnDDnb8-c_",
        "outputId": "752ee112-4dcb-4a56-cff0-09e742707b18"
      },
      "outputs": [
        {
          "output_type": "execute_result",
          "data": {
            "text/plain": [
              "2592    2207.0\n",
              "Name: GarageYrBlt, dtype: float64"
            ],
            "text/html": [
              "<div>\n",
              "<style scoped>\n",
              "    .dataframe tbody tr th:only-of-type {\n",
              "        vertical-align: middle;\n",
              "    }\n",
              "\n",
              "    .dataframe tbody tr th {\n",
              "        vertical-align: top;\n",
              "    }\n",
              "\n",
              "    .dataframe thead th {\n",
              "        text-align: right;\n",
              "    }\n",
              "</style>\n",
              "<table border=\"1\" class=\"dataframe\">\n",
              "  <thead>\n",
              "    <tr style=\"text-align: right;\">\n",
              "      <th></th>\n",
              "      <th>GarageYrBlt</th>\n",
              "    </tr>\n",
              "  </thead>\n",
              "  <tbody>\n",
              "    <tr>\n",
              "      <th>2592</th>\n",
              "      <td>2207.0</td>\n",
              "    </tr>\n",
              "  </tbody>\n",
              "</table>\n",
              "</div><br><label><b>dtype:</b> float64</label>"
            ]
          },
          "metadata": {},
          "execution_count": 24
        }
      ],
      "source": [
        "all_data[all_data.GarageYrBlt > 2017].GarageYrBlt #Il semble que ce soit une faute de frappe."
      ]
    },
    {
      "cell_type": "code",
      "execution_count": 25,
      "metadata": {
        "id": "do4_U8Wk8-c_"
      },
      "outputs": [],
      "source": [
        "all_data.loc[2590, 'GarageYrBlt'] = 2007"
      ]
    },
    {
      "cell_type": "markdown",
      "metadata": {
        "id": "2mSUXks78-c_"
      },
      "source": [
        "**La variable LotFrontage (Longueur de la rue connectée à la propriété)**"
      ]
    },
    {
      "cell_type": "markdown",
      "metadata": {
        "id": "ynOUC_ph8-c_"
      },
      "source": [
        "LotFrontage correspond à la longueur en pieds linéaires de la rue bordant la propriété.\n",
        "Nous pensons qu’il est très probable que ces valeurs soient similaires pour les maisons situées dans un même quartier.\n",
        "Nous avons donc vérifié quelques statistiques à leur sujet."
      ]
    },
    {
      "cell_type": "code",
      "execution_count": 26,
      "metadata": {
        "colab": {
          "base_uri": "https://localhost:8080/",
          "height": 865
        },
        "id": "Qx41jjxv8-c_",
        "outputId": "fd1f7a0e-01ce-4385-fe78-b619481913ec"
      },
      "outputs": [
        {
          "output_type": "execute_result",
          "data": {
            "text/plain": [
              "                   mean  median  avg_mean_median\n",
              "Neighborhood                                    \n",
              "Blmngtn       46.900000    43.0        44.950000\n",
              "Blueste       27.300000    24.0        25.650000\n",
              "BrDale        21.500000    21.0        21.250000\n",
              "BrkSide       55.789474    51.0        53.394737\n",
              "ClearCr       88.150000    80.5        84.325000\n",
              "CollgCr       71.336364    70.0        70.668182\n",
              "Crawfor       69.951807    70.0        69.975904\n",
              "Edwards       66.910112    65.0        65.955056\n",
              "Gilbert       74.207207    64.0        69.103604\n",
              "IDOTRR        62.241379    60.0        61.120690\n",
              "MeadowV       25.606061    21.0        23.303030\n",
              "Mitchel       75.144444    74.0        74.572222\n",
              "NAmes         75.210667    73.0        74.105333\n",
              "NPkVill       28.142857    24.0        26.071429\n",
              "NWAmes        81.517647    80.0        80.758824\n",
              "NoRidge       91.629630    89.0        90.314815\n",
              "NridgHt       84.184049    92.0        88.092025\n",
              "OldTown       61.777293    60.0        60.888646\n",
              "SWISU         59.068182    60.0        59.534091\n",
              "Sawyer        74.551020    72.0        73.275510\n",
              "SawyerW       70.669811    67.0        68.834906\n",
              "Somerst       64.549383    72.5        68.524691\n",
              "StoneBr       62.173913    60.0        61.086957\n",
              "Timber        81.157895    82.0        81.578947\n",
              "Veenker       72.000000    80.0        76.000000"
            ],
            "text/html": [
              "\n",
              "  <div id=\"df-cdffcdde-d699-4c8d-9a07-7d5debd91786\" class=\"colab-df-container\">\n",
              "    <div>\n",
              "<style scoped>\n",
              "    .dataframe tbody tr th:only-of-type {\n",
              "        vertical-align: middle;\n",
              "    }\n",
              "\n",
              "    .dataframe tbody tr th {\n",
              "        vertical-align: top;\n",
              "    }\n",
              "\n",
              "    .dataframe thead th {\n",
              "        text-align: right;\n",
              "    }\n",
              "</style>\n",
              "<table border=\"1\" class=\"dataframe\">\n",
              "  <thead>\n",
              "    <tr style=\"text-align: right;\">\n",
              "      <th></th>\n",
              "      <th>mean</th>\n",
              "      <th>median</th>\n",
              "      <th>avg_mean_median</th>\n",
              "    </tr>\n",
              "    <tr>\n",
              "      <th>Neighborhood</th>\n",
              "      <th></th>\n",
              "      <th></th>\n",
              "      <th></th>\n",
              "    </tr>\n",
              "  </thead>\n",
              "  <tbody>\n",
              "    <tr>\n",
              "      <th>Blmngtn</th>\n",
              "      <td>46.900000</td>\n",
              "      <td>43.0</td>\n",
              "      <td>44.950000</td>\n",
              "    </tr>\n",
              "    <tr>\n",
              "      <th>Blueste</th>\n",
              "      <td>27.300000</td>\n",
              "      <td>24.0</td>\n",
              "      <td>25.650000</td>\n",
              "    </tr>\n",
              "    <tr>\n",
              "      <th>BrDale</th>\n",
              "      <td>21.500000</td>\n",
              "      <td>21.0</td>\n",
              "      <td>21.250000</td>\n",
              "    </tr>\n",
              "    <tr>\n",
              "      <th>BrkSide</th>\n",
              "      <td>55.789474</td>\n",
              "      <td>51.0</td>\n",
              "      <td>53.394737</td>\n",
              "    </tr>\n",
              "    <tr>\n",
              "      <th>ClearCr</th>\n",
              "      <td>88.150000</td>\n",
              "      <td>80.5</td>\n",
              "      <td>84.325000</td>\n",
              "    </tr>\n",
              "    <tr>\n",
              "      <th>CollgCr</th>\n",
              "      <td>71.336364</td>\n",
              "      <td>70.0</td>\n",
              "      <td>70.668182</td>\n",
              "    </tr>\n",
              "    <tr>\n",
              "      <th>Crawfor</th>\n",
              "      <td>69.951807</td>\n",
              "      <td>70.0</td>\n",
              "      <td>69.975904</td>\n",
              "    </tr>\n",
              "    <tr>\n",
              "      <th>Edwards</th>\n",
              "      <td>66.910112</td>\n",
              "      <td>65.0</td>\n",
              "      <td>65.955056</td>\n",
              "    </tr>\n",
              "    <tr>\n",
              "      <th>Gilbert</th>\n",
              "      <td>74.207207</td>\n",
              "      <td>64.0</td>\n",
              "      <td>69.103604</td>\n",
              "    </tr>\n",
              "    <tr>\n",
              "      <th>IDOTRR</th>\n",
              "      <td>62.241379</td>\n",
              "      <td>60.0</td>\n",
              "      <td>61.120690</td>\n",
              "    </tr>\n",
              "    <tr>\n",
              "      <th>MeadowV</th>\n",
              "      <td>25.606061</td>\n",
              "      <td>21.0</td>\n",
              "      <td>23.303030</td>\n",
              "    </tr>\n",
              "    <tr>\n",
              "      <th>Mitchel</th>\n",
              "      <td>75.144444</td>\n",
              "      <td>74.0</td>\n",
              "      <td>74.572222</td>\n",
              "    </tr>\n",
              "    <tr>\n",
              "      <th>NAmes</th>\n",
              "      <td>75.210667</td>\n",
              "      <td>73.0</td>\n",
              "      <td>74.105333</td>\n",
              "    </tr>\n",
              "    <tr>\n",
              "      <th>NPkVill</th>\n",
              "      <td>28.142857</td>\n",
              "      <td>24.0</td>\n",
              "      <td>26.071429</td>\n",
              "    </tr>\n",
              "    <tr>\n",
              "      <th>NWAmes</th>\n",
              "      <td>81.517647</td>\n",
              "      <td>80.0</td>\n",
              "      <td>80.758824</td>\n",
              "    </tr>\n",
              "    <tr>\n",
              "      <th>NoRidge</th>\n",
              "      <td>91.629630</td>\n",
              "      <td>89.0</td>\n",
              "      <td>90.314815</td>\n",
              "    </tr>\n",
              "    <tr>\n",
              "      <th>NridgHt</th>\n",
              "      <td>84.184049</td>\n",
              "      <td>92.0</td>\n",
              "      <td>88.092025</td>\n",
              "    </tr>\n",
              "    <tr>\n",
              "      <th>OldTown</th>\n",
              "      <td>61.777293</td>\n",
              "      <td>60.0</td>\n",
              "      <td>60.888646</td>\n",
              "    </tr>\n",
              "    <tr>\n",
              "      <th>SWISU</th>\n",
              "      <td>59.068182</td>\n",
              "      <td>60.0</td>\n",
              "      <td>59.534091</td>\n",
              "    </tr>\n",
              "    <tr>\n",
              "      <th>Sawyer</th>\n",
              "      <td>74.551020</td>\n",
              "      <td>72.0</td>\n",
              "      <td>73.275510</td>\n",
              "    </tr>\n",
              "    <tr>\n",
              "      <th>SawyerW</th>\n",
              "      <td>70.669811</td>\n",
              "      <td>67.0</td>\n",
              "      <td>68.834906</td>\n",
              "    </tr>\n",
              "    <tr>\n",
              "      <th>Somerst</th>\n",
              "      <td>64.549383</td>\n",
              "      <td>72.5</td>\n",
              "      <td>68.524691</td>\n",
              "    </tr>\n",
              "    <tr>\n",
              "      <th>StoneBr</th>\n",
              "      <td>62.173913</td>\n",
              "      <td>60.0</td>\n",
              "      <td>61.086957</td>\n",
              "    </tr>\n",
              "    <tr>\n",
              "      <th>Timber</th>\n",
              "      <td>81.157895</td>\n",
              "      <td>82.0</td>\n",
              "      <td>81.578947</td>\n",
              "    </tr>\n",
              "    <tr>\n",
              "      <th>Veenker</th>\n",
              "      <td>72.000000</td>\n",
              "      <td>80.0</td>\n",
              "      <td>76.000000</td>\n",
              "    </tr>\n",
              "  </tbody>\n",
              "</table>\n",
              "</div>\n",
              "    <div class=\"colab-df-buttons\">\n",
              "\n",
              "  <div class=\"colab-df-container\">\n",
              "    <button class=\"colab-df-convert\" onclick=\"convertToInteractive('df-cdffcdde-d699-4c8d-9a07-7d5debd91786')\"\n",
              "            title=\"Convert this dataframe to an interactive table.\"\n",
              "            style=\"display:none;\">\n",
              "\n",
              "  <svg xmlns=\"http://www.w3.org/2000/svg\" height=\"24px\" viewBox=\"0 -960 960 960\">\n",
              "    <path d=\"M120-120v-720h720v720H120Zm60-500h600v-160H180v160Zm220 220h160v-160H400v160Zm0 220h160v-160H400v160ZM180-400h160v-160H180v160Zm440 0h160v-160H620v160ZM180-180h160v-160H180v160Zm440 0h160v-160H620v160Z\"/>\n",
              "  </svg>\n",
              "    </button>\n",
              "\n",
              "  <style>\n",
              "    .colab-df-container {\n",
              "      display:flex;\n",
              "      gap: 12px;\n",
              "    }\n",
              "\n",
              "    .colab-df-convert {\n",
              "      background-color: #E8F0FE;\n",
              "      border: none;\n",
              "      border-radius: 50%;\n",
              "      cursor: pointer;\n",
              "      display: none;\n",
              "      fill: #1967D2;\n",
              "      height: 32px;\n",
              "      padding: 0 0 0 0;\n",
              "      width: 32px;\n",
              "    }\n",
              "\n",
              "    .colab-df-convert:hover {\n",
              "      background-color: #E2EBFA;\n",
              "      box-shadow: 0px 1px 2px rgba(60, 64, 67, 0.3), 0px 1px 3px 1px rgba(60, 64, 67, 0.15);\n",
              "      fill: #174EA6;\n",
              "    }\n",
              "\n",
              "    .colab-df-buttons div {\n",
              "      margin-bottom: 4px;\n",
              "    }\n",
              "\n",
              "    [theme=dark] .colab-df-convert {\n",
              "      background-color: #3B4455;\n",
              "      fill: #D2E3FC;\n",
              "    }\n",
              "\n",
              "    [theme=dark] .colab-df-convert:hover {\n",
              "      background-color: #434B5C;\n",
              "      box-shadow: 0px 1px 3px 1px rgba(0, 0, 0, 0.15);\n",
              "      filter: drop-shadow(0px 1px 2px rgba(0, 0, 0, 0.3));\n",
              "      fill: #FFFFFF;\n",
              "    }\n",
              "  </style>\n",
              "\n",
              "    <script>\n",
              "      const buttonEl =\n",
              "        document.querySelector('#df-cdffcdde-d699-4c8d-9a07-7d5debd91786 button.colab-df-convert');\n",
              "      buttonEl.style.display =\n",
              "        google.colab.kernel.accessAllowed ? 'block' : 'none';\n",
              "\n",
              "      async function convertToInteractive(key) {\n",
              "        const element = document.querySelector('#df-cdffcdde-d699-4c8d-9a07-7d5debd91786');\n",
              "        const dataTable =\n",
              "          await google.colab.kernel.invokeFunction('convertToInteractive',\n",
              "                                                    [key], {});\n",
              "        if (!dataTable) return;\n",
              "\n",
              "        const docLinkHtml = 'Like what you see? Visit the ' +\n",
              "          '<a target=\"_blank\" href=https://colab.research.google.com/notebooks/data_table.ipynb>data table notebook</a>'\n",
              "          + ' to learn more about interactive tables.';\n",
              "        element.innerHTML = '';\n",
              "        dataTable['output_type'] = 'display_data';\n",
              "        await google.colab.output.renderOutput(dataTable, element);\n",
              "        const docLink = document.createElement('div');\n",
              "        docLink.innerHTML = docLinkHtml;\n",
              "        element.appendChild(docLink);\n",
              "      }\n",
              "    </script>\n",
              "  </div>\n",
              "\n",
              "\n",
              "    <div id=\"df-3cbdfcf3-179c-495a-95d3-774898832dfa\">\n",
              "      <button class=\"colab-df-quickchart\" onclick=\"quickchart('df-3cbdfcf3-179c-495a-95d3-774898832dfa')\"\n",
              "                title=\"Suggest charts\"\n",
              "                style=\"display:none;\">\n",
              "\n",
              "<svg xmlns=\"http://www.w3.org/2000/svg\" height=\"24px\"viewBox=\"0 0 24 24\"\n",
              "     width=\"24px\">\n",
              "    <g>\n",
              "        <path d=\"M19 3H5c-1.1 0-2 .9-2 2v14c0 1.1.9 2 2 2h14c1.1 0 2-.9 2-2V5c0-1.1-.9-2-2-2zM9 17H7v-7h2v7zm4 0h-2V7h2v10zm4 0h-2v-4h2v4z\"/>\n",
              "    </g>\n",
              "</svg>\n",
              "      </button>\n",
              "\n",
              "<style>\n",
              "  .colab-df-quickchart {\n",
              "      --bg-color: #E8F0FE;\n",
              "      --fill-color: #1967D2;\n",
              "      --hover-bg-color: #E2EBFA;\n",
              "      --hover-fill-color: #174EA6;\n",
              "      --disabled-fill-color: #AAA;\n",
              "      --disabled-bg-color: #DDD;\n",
              "  }\n",
              "\n",
              "  [theme=dark] .colab-df-quickchart {\n",
              "      --bg-color: #3B4455;\n",
              "      --fill-color: #D2E3FC;\n",
              "      --hover-bg-color: #434B5C;\n",
              "      --hover-fill-color: #FFFFFF;\n",
              "      --disabled-bg-color: #3B4455;\n",
              "      --disabled-fill-color: #666;\n",
              "  }\n",
              "\n",
              "  .colab-df-quickchart {\n",
              "    background-color: var(--bg-color);\n",
              "    border: none;\n",
              "    border-radius: 50%;\n",
              "    cursor: pointer;\n",
              "    display: none;\n",
              "    fill: var(--fill-color);\n",
              "    height: 32px;\n",
              "    padding: 0;\n",
              "    width: 32px;\n",
              "  }\n",
              "\n",
              "  .colab-df-quickchart:hover {\n",
              "    background-color: var(--hover-bg-color);\n",
              "    box-shadow: 0 1px 2px rgba(60, 64, 67, 0.3), 0 1px 3px 1px rgba(60, 64, 67, 0.15);\n",
              "    fill: var(--button-hover-fill-color);\n",
              "  }\n",
              "\n",
              "  .colab-df-quickchart-complete:disabled,\n",
              "  .colab-df-quickchart-complete:disabled:hover {\n",
              "    background-color: var(--disabled-bg-color);\n",
              "    fill: var(--disabled-fill-color);\n",
              "    box-shadow: none;\n",
              "  }\n",
              "\n",
              "  .colab-df-spinner {\n",
              "    border: 2px solid var(--fill-color);\n",
              "    border-color: transparent;\n",
              "    border-bottom-color: var(--fill-color);\n",
              "    animation:\n",
              "      spin 1s steps(1) infinite;\n",
              "  }\n",
              "\n",
              "  @keyframes spin {\n",
              "    0% {\n",
              "      border-color: transparent;\n",
              "      border-bottom-color: var(--fill-color);\n",
              "      border-left-color: var(--fill-color);\n",
              "    }\n",
              "    20% {\n",
              "      border-color: transparent;\n",
              "      border-left-color: var(--fill-color);\n",
              "      border-top-color: var(--fill-color);\n",
              "    }\n",
              "    30% {\n",
              "      border-color: transparent;\n",
              "      border-left-color: var(--fill-color);\n",
              "      border-top-color: var(--fill-color);\n",
              "      border-right-color: var(--fill-color);\n",
              "    }\n",
              "    40% {\n",
              "      border-color: transparent;\n",
              "      border-right-color: var(--fill-color);\n",
              "      border-top-color: var(--fill-color);\n",
              "    }\n",
              "    60% {\n",
              "      border-color: transparent;\n",
              "      border-right-color: var(--fill-color);\n",
              "    }\n",
              "    80% {\n",
              "      border-color: transparent;\n",
              "      border-right-color: var(--fill-color);\n",
              "      border-bottom-color: var(--fill-color);\n",
              "    }\n",
              "    90% {\n",
              "      border-color: transparent;\n",
              "      border-bottom-color: var(--fill-color);\n",
              "    }\n",
              "  }\n",
              "</style>\n",
              "\n",
              "      <script>\n",
              "        async function quickchart(key) {\n",
              "          const quickchartButtonEl =\n",
              "            document.querySelector('#' + key + ' button');\n",
              "          quickchartButtonEl.disabled = true;  // To prevent multiple clicks.\n",
              "          quickchartButtonEl.classList.add('colab-df-spinner');\n",
              "          try {\n",
              "            const charts = await google.colab.kernel.invokeFunction(\n",
              "                'suggestCharts', [key], {});\n",
              "          } catch (error) {\n",
              "            console.error('Error during call to suggestCharts:', error);\n",
              "          }\n",
              "          quickchartButtonEl.classList.remove('colab-df-spinner');\n",
              "          quickchartButtonEl.classList.add('colab-df-quickchart-complete');\n",
              "        }\n",
              "        (() => {\n",
              "          let quickchartButtonEl =\n",
              "            document.querySelector('#df-3cbdfcf3-179c-495a-95d3-774898832dfa button');\n",
              "          quickchartButtonEl.style.display =\n",
              "            google.colab.kernel.accessAllowed ? 'block' : 'none';\n",
              "        })();\n",
              "      </script>\n",
              "    </div>\n",
              "\n",
              "  <div id=\"id_3e966185-5e85-4ef1-9dde-9b6ef32a03d7\">\n",
              "    <style>\n",
              "      .colab-df-generate {\n",
              "        background-color: #E8F0FE;\n",
              "        border: none;\n",
              "        border-radius: 50%;\n",
              "        cursor: pointer;\n",
              "        display: none;\n",
              "        fill: #1967D2;\n",
              "        height: 32px;\n",
              "        padding: 0 0 0 0;\n",
              "        width: 32px;\n",
              "      }\n",
              "\n",
              "      .colab-df-generate:hover {\n",
              "        background-color: #E2EBFA;\n",
              "        box-shadow: 0px 1px 2px rgba(60, 64, 67, 0.3), 0px 1px 3px 1px rgba(60, 64, 67, 0.15);\n",
              "        fill: #174EA6;\n",
              "      }\n",
              "\n",
              "      [theme=dark] .colab-df-generate {\n",
              "        background-color: #3B4455;\n",
              "        fill: #D2E3FC;\n",
              "      }\n",
              "\n",
              "      [theme=dark] .colab-df-generate:hover {\n",
              "        background-color: #434B5C;\n",
              "        box-shadow: 0px 1px 3px 1px rgba(0, 0, 0, 0.15);\n",
              "        filter: drop-shadow(0px 1px 2px rgba(0, 0, 0, 0.3));\n",
              "        fill: #FFFFFF;\n",
              "      }\n",
              "    </style>\n",
              "    <button class=\"colab-df-generate\" onclick=\"generateWithVariable('neigh_lot_frontage')\"\n",
              "            title=\"Generate code using this dataframe.\"\n",
              "            style=\"display:none;\">\n",
              "\n",
              "  <svg xmlns=\"http://www.w3.org/2000/svg\" height=\"24px\"viewBox=\"0 0 24 24\"\n",
              "       width=\"24px\">\n",
              "    <path d=\"M7,19H8.4L18.45,9,17,7.55,7,17.6ZM5,21V16.75L18.45,3.32a2,2,0,0,1,2.83,0l1.4,1.43a1.91,1.91,0,0,1,.58,1.4,1.91,1.91,0,0,1-.58,1.4L9.25,21ZM18.45,9,17,7.55Zm-12,3A5.31,5.31,0,0,0,4.9,8.1,5.31,5.31,0,0,0,1,6.5,5.31,5.31,0,0,0,4.9,4.9,5.31,5.31,0,0,0,6.5,1,5.31,5.31,0,0,0,8.1,4.9,5.31,5.31,0,0,0,12,6.5,5.46,5.46,0,0,0,6.5,12Z\"/>\n",
              "  </svg>\n",
              "    </button>\n",
              "    <script>\n",
              "      (() => {\n",
              "      const buttonEl =\n",
              "        document.querySelector('#id_3e966185-5e85-4ef1-9dde-9b6ef32a03d7 button.colab-df-generate');\n",
              "      buttonEl.style.display =\n",
              "        google.colab.kernel.accessAllowed ? 'block' : 'none';\n",
              "\n",
              "      buttonEl.onclick = () => {\n",
              "        google.colab.notebook.generateWithVariable('neigh_lot_frontage');\n",
              "      }\n",
              "      })();\n",
              "    </script>\n",
              "  </div>\n",
              "\n",
              "    </div>\n",
              "  </div>\n"
            ],
            "application/vnd.google.colaboratory.intrinsic+json": {
              "type": "dataframe",
              "variable_name": "neigh_lot_frontage",
              "summary": "{\n  \"name\": \"neigh_lot_frontage\",\n  \"rows\": 25,\n  \"fields\": [\n    {\n      \"column\": \"Neighborhood\",\n      \"properties\": {\n        \"dtype\": \"string\",\n        \"num_unique_values\": 25,\n        \"samples\": [\n          \"Gilbert\",\n          \"NridgHt\",\n          \"Blmngtn\"\n        ],\n        \"semantic_type\": \"\",\n        \"description\": \"\"\n      }\n    },\n    {\n      \"column\": \"mean\",\n      \"properties\": {\n        \"dtype\": \"number\",\n        \"std\": 19.719781317139812,\n        \"min\": 21.5,\n        \"max\": 91.62962962962963,\n        \"num_unique_values\": 25,\n        \"samples\": [\n          74.2072072072072,\n          84.1840490797546,\n          46.9\n        ],\n        \"semantic_type\": \"\",\n        \"description\": \"\"\n      }\n    },\n    {\n      \"column\": \"median\",\n      \"properties\": {\n        \"dtype\": \"number\",\n        \"std\": 20.824164649112177,\n        \"min\": 21.0,\n        \"max\": 92.0,\n        \"num_unique_values\": 18,\n        \"samples\": [\n          43.0,\n          24.0,\n          60.0\n        ],\n        \"semantic_type\": \"\",\n        \"description\": \"\"\n      }\n    },\n    {\n      \"column\": \"avg_mean_median\",\n      \"properties\": {\n        \"dtype\": \"number\",\n        \"std\": 20.166118058096867,\n        \"min\": 21.25,\n        \"max\": 90.31481481481481,\n        \"num_unique_values\": 25,\n        \"samples\": [\n          69.1036036036036,\n          88.0920245398773,\n          44.95\n        ],\n        \"semantic_type\": \"\",\n        \"description\": \"\"\n      }\n    }\n  ]\n}"
            }
          },
          "metadata": {},
          "execution_count": 26
        }
      ],
      "source": [
        "neigh_lot_frontage = all_data.groupby('Neighborhood')['LotFrontage'].agg([\"mean\", \"median\"])\n",
        "neigh_lot_frontage['avg_mean_median'] = (neigh_lot_frontage['mean'] + neigh_lot_frontage['median'] )/ 2\n",
        "neigh_lot_frontage"
      ]
    },
    {
      "cell_type": "code",
      "execution_count": 27,
      "metadata": {
        "id": "8DGC5mTG8-c_"
      },
      "outputs": [],
      "source": [
        "# transformation en medians\n",
        "all_data['LotFrontage'] = all_data.groupby('Neighborhood')['LotFrontage'].transform(lambda x: x.fillna(x.median()))"
      ]
    },
    {
      "cell_type": "markdown",
      "metadata": {
        "id": "34oRac1q8-c_"
      },
      "source": [
        "**Transformation de certaines variables numériques qui sont en réalité catégorielles.**"
      ]
    },
    {
      "cell_type": "code",
      "execution_count": 28,
      "metadata": {
        "id": "TzIly9pf8-c_"
      },
      "outputs": [],
      "source": [
        "def convert_to_string(df, columns):\n",
        "    df[columns] = df[columns].astype(str)\n",
        "    return df"
      ]
    },
    {
      "cell_type": "code",
      "execution_count": 29,
      "metadata": {
        "id": "gbJbut7v8-c_"
      },
      "outputs": [],
      "source": [
        "num_to_categ_features = ['MSSubClass', 'OverallCond']#, 'YrSold', 'MoSold']\n",
        "\n",
        "all_data = convert_to_string(all_data, columns = num_to_categ_features)"
      ]
    },
    {
      "cell_type": "markdown",
      "metadata": {
        "id": "yCkoHPz48-c_"
      },
      "source": [
        "**Remplacement des valeurs manquantes dans le reste des colonnes numériques**\n",
        "\n",
        "Pour les autres données numériques, nous allons également estimer les valeurs manquantes en nous basant sur leurs statistiques.\n",
        "Pour cela, nous utiliserons l’objet SimpleImputer de la bibliothèque sklearn.\n",
        "\n",
        "Pour les colonnes : BsmtFinSF1, BsmtFinSF2, BsmtUnfSF, BsmtFullBath, BsmtHalfBath et MasVnrArea, nous remplacerons les valeurs manquantes par une constante égale à 0.\n",
        "Pour le reste des colonnes numériques, nous utiliserons la médiane."
      ]
    },
    {
      "cell_type": "code",
      "execution_count": 30,
      "metadata": {
        "id": "cNzPhsIA8-c_"
      },
      "outputs": [],
      "source": [
        "num_features = all_data.select_dtypes(include=['int64','float64']).columns\n",
        "num_features_to_constant = ['BsmtFinSF1', 'BsmtFinSF2', 'BsmtFullBath', 'BsmtHalfBath', \"MasVnrArea\"]\n",
        "num_features_to_median = [feature for feature in num_features if feature not in num_features_to_constant + [\"SalePrice\"]]"
      ]
    },
    {
      "cell_type": "code",
      "execution_count": 31,
      "metadata": {
        "id": "PT77EHSk8-dA"
      },
      "outputs": [],
      "source": [
        "# Génération des variables numériques en entrée pour DataFrameMapper.\n",
        "numeric_features_median = sklearn_pandas.gen_features(columns=[num_features_to_median],\n",
        "                                               classes=[{'class': SimpleImputer,\n",
        "                                                         'strategy': 'median',\n",
        "                                                         'missing_values' : np.nan}])\n",
        "\n",
        "numeric_features_zero = sklearn_pandas.gen_features(columns=[num_features_to_constant],\n",
        "                                               classes=[{'class': SimpleImputer,\n",
        "                                                         'strategy': 'constant',\n",
        "                                                         'fill_value' : 0,\n",
        "                                                         'missing_values' : np.nan}])\n",
        "\n",
        "missing_val_imputer = sklearn_pandas.DataFrameMapper(numeric_features_median + numeric_features_zero)\n",
        "\n",
        "# Ajustement\n",
        "imputed_median = missing_val_imputer.fit(all_data)\n",
        "\n",
        "# Transformation\n",
        "imputed_features = imputed_median.transform(all_data)\n",
        "\n",
        "# Chargement dans un dataframe\n",
        "imputed_df = pd.DataFrame(imputed_features, index=all_data.index, columns=num_features_to_median + num_features_to_constant)\n"
      ]
    },
    {
      "cell_type": "markdown",
      "metadata": {
        "id": "PqcEXaTp8-dA"
      },
      "source": [
        "**Catégoriel vers numérique**"
      ]
    },
    {
      "cell_type": "markdown",
      "metadata": {
        "id": "nsYtsszS8-dA"
      },
      "source": [
        "Il y a beaucoup de variables catégorielles dans les données,\n",
        "donc l’étape suivante consiste à les transformer en valeurs numériques."
      ]
    },
    {
      "cell_type": "code",
      "execution_count": 32,
      "metadata": {
        "id": "B4zzMX_h8-dA"
      },
      "outputs": [],
      "source": [
        "# Sélection des variables catégorielles\n",
        "cat_feats = all_data.select_dtypes(include=['object']).columns"
      ]
    },
    {
      "cell_type": "markdown",
      "metadata": {
        "id": "n6-h5lvX8-dA"
      },
      "source": [
        "D’après la description des données (valeurs possibles pour chaque variable) sur Kaggle,\n",
        "nous avons créé une liste de correspondances spécifiques pour chaque colonne à convertir."
      ]
    },
    {
      "cell_type": "code",
      "execution_count": 33,
      "metadata": {
        "id": "_nHug4c08-dA"
      },
      "outputs": [],
      "source": [
        "none_conversion = [(\"MasVnrType\",\"None\"),\n",
        "                  (\"BsmtQual\",\"NA\"),\n",
        "                  (\"Electrical\", \"SBrkr\"),\n",
        "                  (\"BsmtCond\",\"TA\"),\n",
        "                  (\"BsmtExposure\",\"No\"),\n",
        "                  (\"BsmtFinType1\",\"No\"),\n",
        "                  (\"BsmtFinType2\",\"No\"),\n",
        "                  (\"CentralAir\",\"N\"),\n",
        "                  (\"Condition1\",\"Norm\"),\n",
        "                  (\"Condition2\",\"Norm\"),\n",
        "                  (\"ExterCond\",\"TA\"),\n",
        "                  (\"ExterQual\",\"TA\"),\n",
        "                  (\"FireplaceQu\",\"NA\"),\n",
        "                  (\"Functional\",\"Typ\"),\n",
        "                  (\"GarageType\",\"No\"),\n",
        "                  (\"GarageFinish\",\"No\"),\n",
        "                  (\"GarageQual\",\"NA\"),\n",
        "                  (\"GarageCond\",\"NA\"),\n",
        "                  (\"HeatingQC\",\"TA\"),\n",
        "                  (\"KitchenQual\",\"TA\"),\n",
        "                  (\"Functional\",\"Typ\"),\n",
        "                  (\"GarageType\",\"No\"),\n",
        "                  (\"GarageFinish\",\"No\"),\n",
        "                  (\"GarageQual\",\"No\"),\n",
        "                  (\"GarageCond\",\"No\"),\n",
        "                  (\"HeatingQC\",\"TA\"),\n",
        "                  (\"KitchenQual\",\"TA\"),\n",
        "                  (\"MSZoning\", \"None\"),\n",
        "                  (\"Exterior1st\", \"VinylSd\"),\n",
        "                  (\"Exterior2nd\", \"VinylSd\"),\n",
        "                  (\"SaleType\", \"WD\")]"
      ]
    },
    {
      "cell_type": "markdown",
      "metadata": {
        "id": "MMmyHjqZ8-dA"
      },
      "source": [
        "Nous avons implémenté la fonction none_transform, qui convertit les valeurs manquantes des variables catégorielles en chaînes de caractères spécifiques, définies dans le dictionnaire none_conversion."
      ]
    },
    {
      "cell_type": "code",
      "execution_count": 34,
      "metadata": {
        "id": "YxIe9mf-8-dA"
      },
      "outputs": [],
      "source": [
        "def none_transform(df, conversion_list):\n",
        "    for col, new_str in conversion_list:\n",
        "        df.loc[:, col] = df.loc[:, col].fillna(new_str)\n",
        "    return df"
      ]
    },
    {
      "cell_type": "code",
      "execution_count": 35,
      "metadata": {
        "id": "UtVRMv7H8-dA"
      },
      "outputs": [],
      "source": [
        "all_data = none_transform(all_data, none_conversion)"
      ]
    },
    {
      "cell_type": "code",
      "execution_count": 36,
      "metadata": {
        "id": "5PHGtaT_8-dA",
        "outputId": "7a9546d9-346d-421c-d1ab-f71888a2af20",
        "colab": {
          "base_uri": "https://localhost:8080/"
        }
      },
      "outputs": [
        {
          "output_type": "execute_result",
          "data": {
            "text/plain": [
              "78"
            ]
          },
          "metadata": {},
          "execution_count": 36
        }
      ],
      "source": [
        "len(all_data.columns)"
      ]
    },
    {
      "cell_type": "markdown",
      "metadata": {
        "id": "G6s7iif68-dA"
      },
      "source": [
        "**Transformation des variables asymétriques**"
      ]
    },
    {
      "cell_type": "markdown",
      "metadata": {
        "id": "GvPQTAO68-dA"
      },
      "source": [
        "Comme les modèles linéaires préfèrent généralement des données suivant une distribution normale,\n",
        "nous transformons les variables asymétriques afin de les rendre plus proches d’une distribution normale."
      ]
    },
    {
      "cell_type": "code",
      "execution_count": 41,
      "metadata": {
        "id": "B1H_5dTN8-dA",
        "outputId": "c82473bb-435b-456d-bc73-c90cb749cb19",
        "colab": {
          "base_uri": "https://localhost:8080/"
        }
      },
      "outputs": [
        {
          "output_type": "stream",
          "name": "stdout",
          "text": [
            "\n",
            "Highly skewed features: \n",
            "\n",
            "['MasVnrArea', 'BsmtFinSF2', 'LowQualFinSF', 'BsmtHalfBath', 'HalfBath', 'KitchenAbvGr', 'EnclosedPorch', '3SsnPorch', 'ScreenPorch', 'PoolArea', 'MiscVal']\n"
          ]
        }
      ],
      "source": [
        "# Collecte des variables numériques sans inclure SalePrice\n",
        "numeric_features = [feat for feat in num_features if feat not in ['SalePrice']]\n",
        "\n",
        "# Sélection des colonnes dont l’asymétrie (skewness) est supérieure à 0,5\n",
        "skewed_features = all_data[num_features].apply(lambda x: x.dropna().skew())\n",
        "skewed_features = skewed_features[skewed_features > 0.5].index\n",
        "print(\"\\nHighly skewed features: \\n\\n{}\".format(skewed_features.tolist()))"
      ]
    },
    {
      "cell_type": "markdown",
      "metadata": {
        "id": "daB2AXeS8-dA"
      },
      "source": [
        "Nous avons testé deux méthodes : la transformation logarithmique (log-transformation) et la transformation de Box-Cox.\n",
        "Comme la méthode de Box-Cox a donné des résultats légèrement meilleurs, nous avons finalement décidé de l’utiliser."
      ]
    },
    {
      "cell_type": "code",
      "execution_count": 38,
      "metadata": {
        "id": "mhRI3A7Z8-dA"
      },
      "outputs": [],
      "source": [
        "# Applying log-transformation\n",
        "# all_data[skewed_features] = np.log1p(all_data[skewed_features])# test_df[skewed_features] = np.log1p(test_df[skewed_features])"
      ]
    },
    {
      "cell_type": "markdown",
      "metadata": {
        "id": "6-rzriPe8-dA"
      },
      "source": [
        "La transformation de Box-Cox est une méthode permettant de transformer des variables dépendantes non normales afin de leur donner une forme plus proche d’une distribution normale."
      ]
    },
    {
      "cell_type": "code",
      "execution_count": 39,
      "metadata": {
        "id": "ZQpwEElz8-dB"
      },
      "outputs": [],
      "source": [
        "#Le lambda optimal est celui qui permet d’obtenir la meilleure approximation d’une courbe de distribution normale.\n",
        "\n",
        "lambda_ = 0.15\n",
        "for feature in skewed_features:\n",
        "    all_data[feature] = boxcox1p(all_data[feature], lambda_)"
      ]
    },
    {
      "cell_type": "markdown",
      "metadata": {
        "id": "4Di_i_3o8-dB"
      },
      "source": [
        "**Conversion des variables catégorielles en variables numériques**\n"
      ]
    },
    {
      "cell_type": "markdown",
      "metadata": {
        "id": "GaYiL7mB8-dB"
      },
      "source": [
        "Comme certaines variables catégorielles (par exemple, KitchenQual, GarageQual) peuvent être converties en valeurs numériques ordonnées,\n",
        "nous avons également implémenté un nouvel encodeur spécifique pour ces cas."
      ]
    },
    {
      "cell_type": "code",
      "execution_count": 40,
      "metadata": {
        "id": "o2gqXChd8-dB"
      },
      "outputs": [],
      "source": [
        "class OrderedLabelTransformer(BaseEstimator, TransformerMixin):\n",
        "    orderDict = {\"NA\" : 0, \"Po\" : 1, \"Fa\" : 2, \"TA\" : 3, \"Gd\" : 4, \"Ex\" : 5}\n",
        "\n",
        "    @staticmethod\n",
        "    def get_dict(X):\n",
        "        FirstDict = {\"Po\" : 0, \"Fa\" : 1, \"TA\" : 2, \"Gd\" : 3, \"Ex\" : 4}\n",
        "        SecondDict = {\"NA\" : 0, \"Po\" : 1, \"Fa\" : 2, \"TA\" : 3, \"Gd\" : 4, \"Ex\" : 5}\n",
        "        ThirdDict = {\"NA\" : 0, \"Fa\" : 1, \"TA\" : 2, \"Gd\" : 3, \"Ex\" : 4}\n",
        "        for d in [FirstDict, SecondDict, ThirdDict]:\n",
        "            if set(X) == set(d):\n",
        "                return d\n",
        "\n",
        "    def fit(self, X, y=None):\n",
        "        return self\n",
        "\n",
        "    def transform(self, X):\n",
        "        def get_label(t):\n",
        "            return self.orderDict[t]\n",
        "        return np.array([get_label(n) for n in X])"
      ]
    },
    {
      "cell_type": "markdown",
      "metadata": {
        "id": "iv9w9pso8-dB"
      },
      "source": [
        "Certains quartiers semblent plus chers que d’autres, donc…"
      ]
    },
    {
      "cell_type": "code",
      "execution_count": 42,
      "metadata": {
        "id": "lVaue46H8-dB"
      },
      "outputs": [],
      "source": [
        "class NeighborhoodTransformer(BaseEstimator, TransformerMixin):\n",
        "    neighborhoodsmap = {'StoneBr' : 2, 'NridgHt' : 2, 'NoRidge': 2,\n",
        "                        'MeadowV' : 0, 'IDOTRR' : 0, 'BrDale' : 0 ,\n",
        "                        'CollgCr': 1, 'Veenker' : 1, 'Crawfor' : 1,\n",
        "                        'Mitchel' : 1, 'Somerst' : 1, 'NWAmes' : 1,\n",
        "                        'OldTown' : 1, 'BrkSide' : 1, 'Sawyer' : 1,\n",
        "                        'NAmes' : 1, 'SawyerW' : 1, 'Edwards' : 1,\n",
        "                        'Timber' : 1, 'Gilbert' : 1, 'ClearCr' : 1,\n",
        "                        'NPkVill' : 1, 'Blmngtn' : 1, 'SWISU' : 1,\n",
        "                        'Blueste': 1}\n",
        "\n",
        "    def fit(self, X, y=None):\n",
        "        return self\n",
        "\n",
        "    def transform(self, X):\n",
        "        def get_label(t):\n",
        "            return self.neighborhoodsmap[t]\n",
        "        return np.array([get_label(n) for [n] in X])"
      ]
    },
    {
      "cell_type": "markdown",
      "metadata": {
        "id": "LixSim-t8-dB"
      },
      "source": [
        "Comme nous avons déjà implémenté des transformateurs spécifiques pour les données catégorielles, nous r'exécutons l’ensemble du pipeline pour ces variables."
      ]
    },
    {
      "cell_type": "code",
      "execution_count": 43,
      "metadata": {
        "id": "JzNIg00F8-dB"
      },
      "outputs": [],
      "source": [
        "# Generating features:\n",
        "order_feats = [\"ExterQual\", \"ExterCond\", \"HeatingQC\", \"KitchenQual\", \"BsmtQual\",\n",
        "               \"BsmtCond\", \"FireplaceQu\", \"GarageQual\", \"GarageCond\"]\n",
        "\n",
        "original_features_df = all_data[order_feats + ['Neighborhood']] # we need to save original values for one-hot encoding\n",
        "\n",
        "order_features = sklearn_pandas.gen_features(order_feats, [OrderedLabelTransformer])\n",
        "neighb_features = [(['Neighborhood'], [NeighborhoodTransformer()])]\n",
        "\n",
        "# Pipeline\n",
        "label_encoder = sklearn_pandas.DataFrameMapper(neighb_features + order_features)\n",
        "\n",
        "# The list with order of column names\n",
        "cols = [\"Neighborhood\"] + order_feats\n",
        "\n",
        "# Transformation both train and test set\n",
        "transformed_feats = label_encoder.fit_transform(all_data)\n",
        "\n",
        "# Putting transformed features into dataframe\n",
        "transformed_df = pd.DataFrame(transformed_feats, index=all_data.index, columns=cols)"
      ]
    },
    {
      "cell_type": "code",
      "execution_count": 44,
      "metadata": {
        "id": "4qnZLEJk8-dB",
        "outputId": "ec04d879-7ae1-4fe4-f969-fc03ca4ba0ee",
        "colab": {
          "base_uri": "https://localhost:8080/"
        }
      },
      "outputs": [
        {
          "output_type": "execute_result",
          "data": {
            "text/plain": [
              "(2919, 10)"
            ]
          },
          "metadata": {},
          "execution_count": 44
        }
      ],
      "source": [
        "original_features_df.shape"
      ]
    },
    {
      "cell_type": "code",
      "execution_count": 45,
      "metadata": {
        "id": "NvPkpoa68-dB"
      },
      "outputs": [],
      "source": [
        "# feature without any transformation till now\n",
        "rest_features = set(pd.concat([imputed_df, original_features_df],axis=1).columns).symmetric_difference(set(all_data.columns))\n",
        "rest_features_df = all_data[list(rest_features)]"
      ]
    },
    {
      "cell_type": "code",
      "execution_count": 46,
      "metadata": {
        "id": "XamStiXp8-dB"
      },
      "outputs": [],
      "source": [
        "all_data = pd.concat([imputed_df, original_features_df, rest_features_df],axis=1)"
      ]
    },
    {
      "cell_type": "code",
      "execution_count": 47,
      "metadata": {
        "id": "seNE-xEr8-dB",
        "outputId": "e88502e6-918e-4790-b1b9-a42c85e80b15",
        "colab": {
          "base_uri": "https://localhost:8080/"
        }
      },
      "outputs": [
        {
          "output_type": "execute_result",
          "data": {
            "text/plain": [
              "(2919, 78)"
            ]
          },
          "metadata": {},
          "execution_count": 47
        }
      ],
      "source": [
        "all_data.shape"
      ]
    },
    {
      "cell_type": "markdown",
      "metadata": {
        "id": "V7c0MmZu8-dB"
      },
      "source": [
        "## Feature Engineering"
      ]
    },
    {
      "cell_type": "markdown",
      "metadata": {
        "id": "_aeAWCCX8-dB"
      },
      "source": [
        "**Création de nouvelles variables**"
      ]
    },
    {
      "cell_type": "markdown",
      "metadata": {
        "id": "qtainTMZ8-dB"
      },
      "source": [
        "Ces variables semblent utiles pour la prédiction du prix des maisons.\n",
        "Comme elles ne sont pas présentes dans le jeu de données Kaggle, j’ai décidé de les créer à partir d’autres informations :\n",
        "\n",
        "- TotalSqrtFeet – Surface habitable totale\n",
        "- TotalBaths – Surface totale des salles de bain"
      ]
    },
    {
      "cell_type": "code",
      "execution_count": 48,
      "metadata": {
        "id": "SV6qFCjA8-dB"
      },
      "outputs": [],
      "source": [
        "all_data[\"TotalSqrtFeet\"] = all_data[\"GrLivArea\"] + all_data[\"TotalBsmtSF\"]\n",
        "\n",
        "all_data[\"TotalBaths\"] = all_data[\"BsmtFullBath\"] + (all_data[\"BsmtHalfBath\"]  * .5) + all_data[\"FullBath\"] + (all_data[\"HalfBath\"]* .5)"
      ]
    },
    {
      "cell_type": "code",
      "execution_count": 49,
      "metadata": {
        "id": "6Zz2GEPl8-dC"
      },
      "outputs": [],
      "source": [
        "# Si la maison possède un garage\n",
        "all_data['Isgarage'] = all_data['GarageArea'].apply(lambda x: 1 if x > 0 else 0)\n",
        "\n",
        "# Si la maison possède une cheminée\n",
        "all_data['Isfireplace'] = all_data['Fireplaces'].apply(lambda x: 1 if x > 0 else 0)\n",
        "\n",
        "# Si la maison possède une piscine\n",
        "all_data['Ispool'] = all_data['PoolArea'].apply(lambda x: 1 if x > 0 else 0)\n",
        "\n",
        "# Si la maison possède un deuxième étage\n",
        "all_data['Issecondfloor'] = all_data['2ndFlrSF'].apply(lambda x: 1 if x > 0 else 0)\n",
        "\n",
        "# Si la maison possède un porche ouvert\n",
        "all_data['IsOpenPorch'] = all_data['OpenPorchSF'].apply(lambda x: 1 if x > 0 else 0)\n",
        "\n",
        "# Si la maison possède une terrasse en bois\n",
        "all_data['IsWoodDeck'] = all_data['WoodDeckSF'].apply(lambda x: 1 if x > 0 else 0)"
      ]
    },
    {
      "cell_type": "markdown",
      "metadata": {
        "id": "C5gK4SSV8-dC"
      },
      "source": [
        "**Encodage one-hot**"
      ]
    },
    {
      "cell_type": "code",
      "execution_count": 50,
      "metadata": {
        "id": "u-pMAW228-dC",
        "outputId": "495a3252-95a3-4454-cf6d-89ffc73ff435",
        "colab": {
          "base_uri": "https://localhost:8080/"
        }
      },
      "outputs": [
        {
          "output_type": "execute_result",
          "data": {
            "text/plain": [
              "(2919, 324)"
            ]
          },
          "metadata": {},
          "execution_count": 50
        }
      ],
      "source": [
        "all_data = all_data.drop([\"SalePrice\"], axis = 1)\n",
        "\n",
        "hot_one_features = pd.get_dummies(all_data).reset_index(drop=True)\n",
        "hot_one_features.shape"
      ]
    },
    {
      "cell_type": "code",
      "execution_count": 51,
      "metadata": {
        "id": "sAvtesdE8-dC"
      },
      "outputs": [],
      "source": [
        "all_data = pd.concat([transformed_df, hot_one_features],axis=1)"
      ]
    },
    {
      "cell_type": "code",
      "source": [
        "# export all_data en csv\n",
        "\n",
        "all_data.to_csv('all_data.csv', index=False)\n"
      ],
      "metadata": {
        "id": "dNoelc9HJ1SU"
      },
      "execution_count": 87,
      "outputs": []
    },
    {
      "cell_type": "markdown",
      "metadata": {
        "id": "ZPyPvth38-dC"
      },
      "source": [
        "## Séparation en ensembles d’entraînement et de test"
      ]
    },
    {
      "cell_type": "code",
      "execution_count": 52,
      "metadata": {
        "id": "1OriJDmQ8-dC",
        "outputId": "a5c4713d-72a5-40bd-ae4f-366c01a49115",
        "colab": {
          "base_uri": "https://localhost:8080/"
        }
      },
      "outputs": [
        {
          "output_type": "stream",
          "name": "stdout",
          "text": [
            "True\n"
          ]
        }
      ],
      "source": [
        "train_preprocessed = all_data.iloc[:len(data_df),:]\n",
        "test_preprocessed = all_data.iloc[len(train_preprocessed):,:]\n",
        "print(len(test_preprocessed) == len(test_df))"
      ]
    },
    {
      "cell_type": "markdown",
      "metadata": {
        "id": "H-8Wjy948-dC"
      },
      "source": [
        "# Modélisation\n",
        "-----------------------------------"
      ]
    },
    {
      "cell_type": "code",
      "execution_count": 58,
      "metadata": {
        "id": "oUeeQUAJ8-dC"
      },
      "outputs": [],
      "source": [
        "X_train = train_preprocessed"
      ]
    },
    {
      "cell_type": "code",
      "execution_count": 59,
      "metadata": {
        "id": "rkuWTcCG8-dC"
      },
      "outputs": [],
      "source": [
        "from sklearn.linear_model import Ridge, RidgeCV, ElasticNet, LassoCV, LassoLarsCV\n",
        "from sklearn.model_selection import cross_val_score, KFold\n",
        "from sklearn.pipeline import make_pipeline\n",
        "from sklearn.preprocessing import RobustScaler\n",
        "from sklearn.ensemble import RandomForestRegressor, GradientBoostingRegressor\n",
        "from sklearn.model_selection import GridSearchCV\n",
        "import xgboost as xgb\n",
        "\n",
        "from sklearn.linear_model import ElasticNet, Lasso, ElasticNetCV\n",
        "from sklearn.ensemble import  GradientBoostingRegressor\n",
        "from sklearn.kernel_ridge import KernelRidge\n",
        "from sklearn.base import RegressorMixin\n",
        "import lightgbm as lgb"
      ]
    },
    {
      "cell_type": "code",
      "execution_count": 60,
      "metadata": {
        "id": "enQVC1ZX8-dC",
        "outputId": "1baf1b06-f052-403c-b8a9-5d699dba0ffb",
        "colab": {
          "base_uri": "https://localhost:8080/"
        }
      },
      "outputs": [
        {
          "output_type": "stream",
          "name": "stdout",
          "text": [
            "Environment specification:\n",
            "\n",
            "sklearn 1.6.1\n",
            "xgboost 2.1.4\n",
            "lightgbm 4.5.0\n"
          ]
        }
      ],
      "source": [
        "print('Environment specification:\\n')\n",
        "for mod in sklearn, xgb, lgb:\n",
        "    print(mod.__name__, mod.__version__)"
      ]
    },
    {
      "cell_type": "markdown",
      "metadata": {
        "id": "e7yKIhlX8-dC"
      },
      "source": [
        "**Définition de la fonction de scoring**"
      ]
    },
    {
      "cell_type": "code",
      "execution_count": 61,
      "metadata": {
        "id": "qkkrZBos8-dC"
      },
      "outputs": [],
      "source": [
        "def rmse(model):\n",
        "    n_folds=5\n",
        "    kfold = KFold(n_folds, random_state=42, shuffle=True).get_n_splits(X_train)\n",
        "    rmse_score = np.sqrt(-cross_val_score(model, X_train, y_train, scoring = \"neg_mean_squared_error\", cv = kfold, verbose = -1, n_jobs=-1))\n",
        "    return(np.mean(rmse_score))"
      ]
    },
    {
      "cell_type": "markdown",
      "metadata": {
        "id": "uTVdvXQ48-dC"
      },
      "source": [
        "**Régression linéaire**"
      ]
    },
    {
      "cell_type": "code",
      "source": [
        "lr_model = make_pipeline(RobustScaler(), LinearRegression())\n",
        "\n",
        "lr_model.fit(X_train, y_train)\n",
        "y_train_pred = lr_model.predict(X_train)\n",
        "MSE_train = np.mean((y_train_pred - y_train)**2)\n",
        "\n",
        "print(\"Mean Squared Error = {:.8f}\".format(MSE_train))\n",
        "\n",
        "# Fonction rmse corrigée\n",
        "def rmse(model, X, y):\n",
        "    from sklearn.model_selection import cross_val_score\n",
        "    neg_mse_scores = cross_val_score(model, X, y, scoring=\"neg_mean_squared_error\", cv=5, verbose=0)\n",
        "    rmse_scores = np.sqrt(-neg_mse_scores)\n",
        "    return np.mean(rmse_scores)\n",
        "\n",
        "print(\"RMSE score for Linear Regression: {:.3f}\".format(rmse(lr_model, X_train, y_train)))"
      ],
      "metadata": {
        "colab": {
          "base_uri": "https://localhost:8080/"
        },
        "id": "GTOlrxxJETPO",
        "outputId": "812c3a8b-299e-430b-bbc6-028c803df451"
      },
      "execution_count": 64,
      "outputs": [
        {
          "output_type": "stream",
          "name": "stdout",
          "text": [
            "Mean Squared Error = 0.00858436\n",
            "RMSE score for Linear Regression: 0.160\n"
          ]
        }
      ]
    },
    {
      "cell_type": "code",
      "execution_count": 68,
      "metadata": {
        "id": "lIWtSCM78-dC",
        "outputId": "ab9db0e6-4e50-48e4-ca9f-e128a8b85f7e",
        "colab": {
          "base_uri": "https://localhost:8080/",
          "height": 592
        }
      },
      "outputs": [
        {
          "output_type": "display_data",
          "data": {
            "text/plain": [
              "<Figure size 1000x600 with 1 Axes>"
            ],
            "image/png": "[encoded data removed]"
          },
          "metadata": {}
        }
      ],
      "source": [
        "sns.set(font_scale=1.5)\n",
        "plt.figure(figsize=(10,6))\n",
        "sns.scatterplot(x=y_train, y=y_train_pred)\n",
        "plt.xlabel(\"Prix\")\n",
        "plt.ylabel(\"Prediction du Prix\")\n",
        "plt.title(\"Prix vs. Prediction du Prix\")\n",
        "plt.show()"
      ]
    },
    {
      "cell_type": "code",
      "execution_count": 71,
      "metadata": {
        "id": "3ny6W6n48-dC",
        "outputId": "02d23ae7-1f51-4fb4-d319-e6cd88abf988",
        "colab": {
          "base_uri": "https://localhost:8080/",
          "height": 593
        }
      },
      "outputs": [
        {
          "output_type": "display_data",
          "data": {
            "text/plain": [
              "<Figure size 1000x600 with 1 Axes>"
            ],
            "image/png": "[encoded data removed]"
          },
          "metadata": {}
        }
      ],
      "source": [
        "plt.figure(figsize=(10,6))\n",
        "sns.scatterplot(x=y_train_pred, y=y_train_pred - y_train)\n",
        "plt.title(\"Graphique des résidus\")\n",
        "plt.xlabel(\"Valeurs predites\")\n",
        "plt.ylabel(\"résidus\")\n",
        "plt.show()"
      ]
    },
    {
      "cell_type": "markdown",
      "metadata": {
        "id": "H9FYQUmq8-dD"
      },
      "source": [
        "**Modèle LASSO**"
      ]
    },
    {
      "cell_type": "code",
      "execution_count": 114,
      "metadata": {
        "id": "pI_VWAfP8-dD",
        "outputId": "ee02b95e-fad8-430a-b2a3-eeb63d96c23a",
        "colab": {
          "base_uri": "https://localhost:8080/"
        }
      },
      "outputs": [
        {
          "output_type": "stream",
          "name": "stdout",
          "text": [
            "Mean Squared Error = 0.01197438\n",
            "RMSE score for LASSO: 0.135\n"
          ]
        }
      ],
      "source": [
        "lasso_model = make_pipeline(RobustScaler(),\n",
        "                         LassoCV(alphas = [0.0004, 0.0005, 0.0006],\n",
        "                                 random_state = 0,\n",
        "                                 cv = 10))\n",
        "\n",
        "lasso_model.fit(X_train, y_train)\n",
        "\n",
        "y_train_pred = lasso_model.predict(X_train)\n",
        "MSE_train = np.mean((y_train_pred - y_train)**2)\n",
        "\n",
        "print(\"Mean Squared Error = {:.8f}\".format(MSE_train))\n",
        "print(\"RMSE score for LASSO: {:.3f}\".format(rmse(lasso_model, X_train, y_train)))"
      ]
    },
    {
      "cell_type": "code",
      "execution_count": 77,
      "metadata": {
        "id": "kZ3RHtd18-dD",
        "outputId": "d1b43523-2fed-4157-9126-3fbef3c74d6b",
        "colab": {
          "base_uri": "https://localhost:8080/",
          "height": 595
        }
      },
      "outputs": [
        {
          "output_type": "display_data",
          "data": {
            "text/plain": [
              "<Figure size 1000x600 with 1 Axes>"
            ],
            "image/png": "[encoded data removed]"
          },
          "metadata": {}
        }
      ],
      "source": [
        "plt.figure(figsize=(10,6))\n",
        "sns.scatterplot(x=y_train_pred, y=y_train)\n",
        "plt.title(\"Régression linéaire avec régularisation Lasso\")\n",
        "plt.xlabel(\"Prix prédits\")\n",
        "plt.ylabel(\"Prix Réel\")\n",
        "plt.show()"
      ]
    },
    {
      "cell_type": "markdown",
      "metadata": {
        "id": "5dFJhaEn8-dD"
      },
      "source": [
        "**Régression par Gradient Boosting**"
      ]
    },
    {
      "cell_type": "code",
      "execution_count": 82,
      "metadata": {
        "id": "k0GSJJj28-dD",
        "outputId": "743d7623-276f-44f7-de87-07cd25df5168",
        "colab": {
          "base_uri": "https://localhost:8080/",
          "height": 166
        }
      },
      "outputs": [
        {
          "output_type": "execute_result",
          "data": {
            "text/plain": [
              "GridSearchCV(cv=5, estimator=GradientBoostingRegressor(random_state=0),\n",
              "             n_jobs=1,\n",
              "             param_grid={'learning_rate': [0.05], 'max_depth': [5],\n",
              "                         'max_features': [13], 'n_estimators': [2500],\n",
              "                         'random_state': [5], 'subsample': [0.8]})"
            ],
            "text/html": [
              "<style>#sk-container-id-2 {\n",
              "  /* Definition of color scheme common for light and dark mode */\n",
              "  --sklearn-color-text: #000;\n",
              "  --sklearn-color-text-muted: #666;\n",
              "  --sklearn-color-line: gray;\n",
              "  /* Definition of color scheme for unfitted estimators */\n",
              "  --sklearn-color-unfitted-level-0: #fff5e6;\n",
              "  --sklearn-color-unfitted-level-1: #f6e4d2;\n",
              "  --sklearn-color-unfitted-level-2: #ffe0b3;\n",
              "  --sklearn-color-unfitted-level-3: chocolate;\n",
              "  /* Definition of color scheme for fitted estimators */\n",
              "  --sklearn-color-fitted-level-0: #f0f8ff;\n",
              "  --sklearn-color-fitted-level-1: #d4ebff;\n",
              "  --sklearn-color-fitted-level-2: #b3dbfd;\n",
              "  --sklearn-color-fitted-level-3: cornflowerblue;\n",
              "\n",
              "  /* Specific color for light theme */\n",
              "  --sklearn-color-text-on-default-background: var(--sg-text-color, var(--theme-code-foreground, var(--jp-content-font-color1, black)));\n",
              "  --sklearn-color-background: var(--sg-background-color, var(--theme-background, var(--jp-layout-color0, white)));\n",
              "  --sklearn-color-border-box: var(--sg-text-color, var(--theme-code-foreground, var(--jp-content-font-color1, black)));\n",
              "  --sklearn-color-icon: #696969;\n",
              "\n",
              "  @media (prefers-color-scheme: dark) {\n",
              "    /* Redefinition of color scheme for dark theme */\n",
              "    --sklearn-color-text-on-default-background: var(--sg-text-color, var(--theme-code-foreground, var(--jp-content-font-color1, white)));\n",
              "    --sklearn-color-background: var(--sg-background-color, var(--theme-background, var(--jp-layout-color0, #111)));\n",
              "    --sklearn-color-border-box: var(--sg-text-color, var(--theme-code-foreground, var(--jp-content-font-color1, white)));\n",
              "    --sklearn-color-icon: #878787;\n",
              "  }\n",
              "}\n",
              "\n",
              "#sk-container-id-2 {\n",
              "  color: var(--sklearn-color-text);\n",
              "}\n",
              "\n",
              "#sk-container-id-2 pre {\n",
              "  padding: 0;\n",
              "}\n",
              "\n",
              "#sk-container-id-2 input.sk-hidden--visually {\n",
              "  border: 0;\n",
              "  clip: rect(1px 1px 1px 1px);\n",
              "  clip: rect(1px, 1px, 1px, 1px);\n",
              "  height: 1px;\n",
              "  margin: -1px;\n",
              "  overflow: hidden;\n",
              "  padding: 0;\n",
              "  position: absolute;\n",
              "  width: 1px;\n",
              "}\n",
              "\n",
              "#sk-container-id-2 div.sk-dashed-wrapped {\n",
              "  border: 1px dashed var(--sklearn-color-line);\n",
              "  margin: 0 0.4em 0.5em 0.4em;\n",
              "  box-sizing: border-box;\n",
              "  padding-bottom: 0.4em;\n",
              "  background-color: var(--sklearn-color-background);\n",
              "}\n",
              "\n",
              "#sk-container-id-2 div.sk-container {\n",
              "  /* jupyter's `normalize.less` sets `[hidden] { display: none; }`\n",
              "     but bootstrap.min.css set `[hidden] { display: none !important; }`\n",
              "     so we also need the `!important` here to be able to override the\n",
              "     default hidden behavior on the sphinx rendered scikit-learn.org.\n",
              "     See: https://github.com/scikit-learn/scikit-learn/issues/21755 */\n",
              "  display: inline-block !important;\n",
              "  position: relative;\n",
              "}\n",
              "\n",
              "#sk-container-id-2 div.sk-text-repr-fallback {\n",
              "  display: none;\n",
              "}\n",
              "\n",
              "div.sk-parallel-item,\n",
              "div.sk-serial,\n",
              "div.sk-item {\n",
              "  /* draw centered vertical line to link estimators */\n",
              "  background-image: linear-gradient(var(--sklearn-color-text-on-default-background), var(--sklearn-color-text-on-default-background));\n",
              "  background-size: 2px 100%;\n",
              "  background-repeat: no-repeat;\n",
              "  background-position: center center;\n",
              "}\n",
              "\n",
              "/* Parallel-specific style estimator block */\n",
              "\n",
              "#sk-container-id-2 div.sk-parallel-item::after {\n",
              "  content: \"\";\n",
              "  width: 100%;\n",
              "  border-bottom: 2px solid var(--sklearn-color-text-on-default-background);\n",
              "  flex-grow: 1;\n",
              "}\n",
              "\n",
              "#sk-container-id-2 div.sk-parallel {\n",
              "  display: flex;\n",
              "  align-items: stretch;\n",
              "  justify-content: center;\n",
              "  background-color: var(--sklearn-color-background);\n",
              "  position: relative;\n",
              "}\n",
              "\n",
              "#sk-container-id-2 div.sk-parallel-item {\n",
              "  display: flex;\n",
              "  flex-direction: column;\n",
              "}\n",
              "\n",
              "#sk-container-id-2 div.sk-parallel-item:first-child::after {\n",
              "  align-self: flex-end;\n",
              "  width: 50%;\n",
              "}\n",
              "\n",
              "#sk-container-id-2 div.sk-parallel-item:last-child::after {\n",
              "  align-self: flex-start;\n",
              "  width: 50%;\n",
              "}\n",
              "\n",
              "#sk-container-id-2 div.sk-parallel-item:only-child::after {\n",
              "  width: 0;\n",
              "}\n",
              "\n",
              "/* Serial-specific style estimator block */\n",
              "\n",
              "#sk-container-id-2 div.sk-serial {\n",
              "  display: flex;\n",
              "  flex-direction: column;\n",
              "  align-items: center;\n",
              "  background-color: var(--sklearn-color-background);\n",
              "  padding-right: 1em;\n",
              "  padding-left: 1em;\n",
              "}\n",
              "\n",
              "\n",
              "/* Toggleable style: style used for estimator/Pipeline/ColumnTransformer box that is\n",
              "clickable and can be expanded/collapsed.\n",
              "- Pipeline and ColumnTransformer use this feature and define the default style\n",
              "- Estimators will overwrite some part of the style using the `sk-estimator` class\n",
              "*/\n",
              "\n",
              "/* Pipeline and ColumnTransformer style (default) */\n",
              "\n",
              "#sk-container-id-2 div.sk-toggleable {\n",
              "  /* Default theme specific background. It is overwritten whether we have a\n",
              "  specific estimator or a Pipeline/ColumnTransformer */\n",
              "  background-color: var(--sklearn-color-background);\n",
              "}\n",
              "\n",
              "/* Toggleable label */\n",
              "#sk-container-id-2 label.sk-toggleable__label {\n",
              "  cursor: pointer;\n",
              "  display: flex;\n",
              "  width: 100%;\n",
              "  margin-bottom: 0;\n",
              "  padding: 0.5em;\n",
              "  box-sizing: border-box;\n",
              "  text-align: center;\n",
              "  align-items: start;\n",
              "  justify-content: space-between;\n",
              "  gap: 0.5em;\n",
              "}\n",
              "\n",
              "#sk-container-id-2 label.sk-toggleable__label .caption {\n",
              "  font-size: 0.6rem;\n",
              "  font-weight: lighter;\n",
              "  color: var(--sklearn-color-text-muted);\n",
              "}\n",
              "\n",
              "#sk-container-id-2 label.sk-toggleable__label-arrow:before {\n",
              "  /* Arrow on the left of the label */\n",
              "  content: \"▸\";\n",
              "  float: left;\n",
              "  margin-right: 0.25em;\n",
              "  color: var(--sklearn-color-icon);\n",
              "}\n",
              "\n",
              "#sk-container-id-2 label.sk-toggleable__label-arrow:hover:before {\n",
              "  color: var(--sklearn-color-text);\n",
              "}\n",
              "\n",
              "/* Toggleable content - dropdown */\n",
              "\n",
              "#sk-container-id-2 div.sk-toggleable__content {\n",
              "  max-height: 0;\n",
              "  max-width: 0;\n",
              "  overflow: hidden;\n",
              "  text-align: left;\n",
              "  /* unfitted */\n",
              "  background-color: var(--sklearn-color-unfitted-level-0);\n",
              "}\n",
              "\n",
              "#sk-container-id-2 div.sk-toggleable__content.fitted {\n",
              "  /* fitted */\n",
              "  background-color: var(--sklearn-color-fitted-level-0);\n",
              "}\n",
              "\n",
              "#sk-container-id-2 div.sk-toggleable__content pre {\n",
              "  margin: 0.2em;\n",
              "  border-radius: 0.25em;\n",
              "  color: var(--sklearn-color-text);\n",
              "  /* unfitted */\n",
              "  background-color: var(--sklearn-color-unfitted-level-0);\n",
              "}\n",
              "\n",
              "#sk-container-id-2 div.sk-toggleable__content.fitted pre {\n",
              "  /* unfitted */\n",
              "  background-color: var(--sklearn-color-fitted-level-0);\n",
              "}\n",
              "\n",
              "#sk-container-id-2 input.sk-toggleable__control:checked~div.sk-toggleable__content {\n",
              "  /* Expand drop-down */\n",
              "  max-height: 200px;\n",
              "  max-width: 100%;\n",
              "  overflow: auto;\n",
              "}\n",
              "\n",
              "#sk-container-id-2 input.sk-toggleable__control:checked~label.sk-toggleable__label-arrow:before {\n",
              "  content: \"▾\";\n",
              "}\n",
              "\n",
              "/* Pipeline/ColumnTransformer-specific style */\n",
              "\n",
              "#sk-container-id-2 div.sk-label input.sk-toggleable__control:checked~label.sk-toggleable__label {\n",
              "  color: var(--sklearn-color-text);\n",
              "  background-color: var(--sklearn-color-unfitted-level-2);\n",
              "}\n",
              "\n",
              "#sk-container-id-2 div.sk-label.fitted input.sk-toggleable__control:checked~label.sk-toggleable__label {\n",
              "  background-color: var(--sklearn-color-fitted-level-2);\n",
              "}\n",
              "\n",
              "/* Estimator-specific style */\n",
              "\n",
              "/* Colorize estimator box */\n",
              "#sk-container-id-2 div.sk-estimator input.sk-toggleable__control:checked~label.sk-toggleable__label {\n",
              "  /* unfitted */\n",
              "  background-color: var(--sklearn-color-unfitted-level-2);\n",
              "}\n",
              "\n",
              "#sk-container-id-2 div.sk-estimator.fitted input.sk-toggleable__control:checked~label.sk-toggleable__label {\n",
              "  /* fitted */\n",
              "  background-color: var(--sklearn-color-fitted-level-2);\n",
              "}\n",
              "\n",
              "#sk-container-id-2 div.sk-label label.sk-toggleable__label,\n",
              "#sk-container-id-2 div.sk-label label {\n",
              "  /* The background is the default theme color */\n",
              "  color: var(--sklearn-color-text-on-default-background);\n",
              "}\n",
              "\n",
              "/* On hover, darken the color of the background */\n",
              "#sk-container-id-2 div.sk-label:hover label.sk-toggleable__label {\n",
              "  color: var(--sklearn-color-text);\n",
              "  background-color: var(--sklearn-color-unfitted-level-2);\n",
              "}\n",
              "\n",
              "/* Label box, darken color on hover, fitted */\n",
              "#sk-container-id-2 div.sk-label.fitted:hover label.sk-toggleable__label.fitted {\n",
              "  color: var(--sklearn-color-text);\n",
              "  background-color: var(--sklearn-color-fitted-level-2);\n",
              "}\n",
              "\n",
              "/* Estimator label */\n",
              "\n",
              "#sk-container-id-2 div.sk-label label {\n",
              "  font-family: monospace;\n",
              "  font-weight: bold;\n",
              "  display: inline-block;\n",
              "  line-height: 1.2em;\n",
              "}\n",
              "\n",
              "#sk-container-id-2 div.sk-label-container {\n",
              "  text-align: center;\n",
              "}\n",
              "\n",
              "/* Estimator-specific */\n",
              "#sk-container-id-2 div.sk-estimator {\n",
              "  font-family: monospace;\n",
              "  border: 1px dotted var(--sklearn-color-border-box);\n",
              "  border-radius: 0.25em;\n",
              "  box-sizing: border-box;\n",
              "  margin-bottom: 0.5em;\n",
              "  /* unfitted */\n",
              "  background-color: var(--sklearn-color-unfitted-level-0);\n",
              "}\n",
              "\n",
              "#sk-container-id-2 div.sk-estimator.fitted {\n",
              "  /* fitted */\n",
              "  background-color: var(--sklearn-color-fitted-level-0);\n",
              "}\n",
              "\n",
              "/* on hover */\n",
              "#sk-container-id-2 div.sk-estimator:hover {\n",
              "  /* unfitted */\n",
              "  background-color: var(--sklearn-color-unfitted-level-2);\n",
              "}\n",
              "\n",
              "#sk-container-id-2 div.sk-estimator.fitted:hover {\n",
              "  /* fitted */\n",
              "  background-color: var(--sklearn-color-fitted-level-2);\n",
              "}\n",
              "\n",
              "/* Specification for estimator info (e.g. \"i\" and \"?\") */\n",
              "\n",
              "/* Common style for \"i\" and \"?\" */\n",
              "\n",
              ".sk-estimator-doc-link,\n",
              "a:link.sk-estimator-doc-link,\n",
              "a:visited.sk-estimator-doc-link {\n",
              "  float: right;\n",
              "  font-size: smaller;\n",
              "  line-height: 1em;\n",
              "  font-family: monospace;\n",
              "  background-color: var(--sklearn-color-background);\n",
              "  border-radius: 1em;\n",
              "  height: 1em;\n",
              "  width: 1em;\n",
              "  text-decoration: none !important;\n",
              "  margin-left: 0.5em;\n",
              "  text-align: center;\n",
              "  /* unfitted */\n",
              "  border: var(--sklearn-color-unfitted-level-1) 1pt solid;\n",
              "  color: var(--sklearn-color-unfitted-level-1);\n",
              "}\n",
              "\n",
              ".sk-estimator-doc-link.fitted,\n",
              "a:link.sk-estimator-doc-link.fitted,\n",
              "a:visited.sk-estimator-doc-link.fitted {\n",
              "  /* fitted */\n",
              "  border: var(--sklearn-color-fitted-level-1) 1pt solid;\n",
              "  color: var(--sklearn-color-fitted-level-1);\n",
              "}\n",
              "\n",
              "/* On hover */\n",
              "div.sk-estimator:hover .sk-estimator-doc-link:hover,\n",
              ".sk-estimator-doc-link:hover,\n",
              "div.sk-label-container:hover .sk-estimator-doc-link:hover,\n",
              ".sk-estimator-doc-link:hover {\n",
              "  /* unfitted */\n",
              "  background-color: var(--sklearn-color-unfitted-level-3);\n",
              "  color: var(--sklearn-color-background);\n",
              "  text-decoration: none;\n",
              "}\n",
              "\n",
              "div.sk-estimator.fitted:hover .sk-estimator-doc-link.fitted:hover,\n",
              ".sk-estimator-doc-link.fitted:hover,\n",
              "div.sk-label-container:hover .sk-estimator-doc-link.fitted:hover,\n",
              ".sk-estimator-doc-link.fitted:hover {\n",
              "  /* fitted */\n",
              "  background-color: var(--sklearn-color-fitted-level-3);\n",
              "  color: var(--sklearn-color-background);\n",
              "  text-decoration: none;\n",
              "}\n",
              "\n",
              "/* Span, style for the box shown on hovering the info icon */\n",
              ".sk-estimator-doc-link span {\n",
              "  display: none;\n",
              "  z-index: 9999;\n",
              "  position: relative;\n",
              "  font-weight: normal;\n",
              "  right: .2ex;\n",
              "  padding: .5ex;\n",
              "  margin: .5ex;\n",
              "  width: min-content;\n",
              "  min-width: 20ex;\n",
              "  max-width: 50ex;\n",
              "  color: var(--sklearn-color-text);\n",
              "  box-shadow: 2pt 2pt 4pt #999;\n",
              "  /* unfitted */\n",
              "  background: var(--sklearn-color-unfitted-level-0);\n",
              "  border: .5pt solid var(--sklearn-color-unfitted-level-3);\n",
              "}\n",
              "\n",
              ".sk-estimator-doc-link.fitted span {\n",
              "  /* fitted */\n",
              "  background: var(--sklearn-color-fitted-level-0);\n",
              "  border: var(--sklearn-color-fitted-level-3);\n",
              "}\n",
              "\n",
              ".sk-estimator-doc-link:hover span {\n",
              "  display: block;\n",
              "}\n",
              "\n",
              "/* \"?\"-specific style due to the `<a>` HTML tag */\n",
              "\n",
              "#sk-container-id-2 a.estimator_doc_link {\n",
              "  float: right;\n",
              "  font-size: 1rem;\n",
              "  line-height: 1em;\n",
              "  font-family: monospace;\n",
              "  background-color: var(--sklearn-color-background);\n",
              "  border-radius: 1rem;\n",
              "  height: 1rem;\n",
              "  width: 1rem;\n",
              "  text-decoration: none;\n",
              "  /* unfitted */\n",
              "  color: var(--sklearn-color-unfitted-level-1);\n",
              "  border: var(--sklearn-color-unfitted-level-1) 1pt solid;\n",
              "}\n",
              "\n",
              "#sk-container-id-2 a.estimator_doc_link.fitted {\n",
              "  /* fitted */\n",
              "  border: var(--sklearn-color-fitted-level-1) 1pt solid;\n",
              "  color: var(--sklearn-color-fitted-level-1);\n",
              "}\n",
              "\n",
              "/* On hover */\n",
              "#sk-container-id-2 a.estimator_doc_link:hover {\n",
              "  /* unfitted */\n",
              "  background-color: var(--sklearn-color-unfitted-level-3);\n",
              "  color: var(--sklearn-color-background);\n",
              "  text-decoration: none;\n",
              "}\n",
              "\n",
              "#sk-container-id-2 a.estimator_doc_link.fitted:hover {\n",
              "  /* fitted */\n",
              "  background-color: var(--sklearn-color-fitted-level-3);\n",
              "}\n",
              "</style><div id=\"sk-container-id-2\" class=\"sk-top-container\"><div class=\"sk-text-repr-fallback\"><pre>GridSearchCV(cv=5, estimator=GradientBoostingRegressor(random_state=0),\n",
              "             n_jobs=1,\n",
              "             param_grid={&#x27;learning_rate&#x27;: [0.05], &#x27;max_depth&#x27;: [5],\n",
              "                         &#x27;max_features&#x27;: [13], &#x27;n_estimators&#x27;: [2500],\n",
              "                         &#x27;random_state&#x27;: [5], &#x27;subsample&#x27;: [0.8]})</pre><b>In a Jupyter environment, please rerun this cell to show the HTML representation or trust the notebook. <br />On GitHub, the HTML representation is unable to render, please try loading this page with nbviewer.org.</b></div><div class=\"sk-container\" hidden><div class=\"sk-item sk-dashed-wrapped\"><div class=\"sk-label-container\"><div class=\"sk-label fitted sk-toggleable\"><input class=\"sk-toggleable__control sk-hidden--visually\" id=\"sk-estimator-id-4\" type=\"checkbox\" ><label for=\"sk-estimator-id-4\" class=\"sk-toggleable__label fitted sk-toggleable__label-arrow\"><div><div>GridSearchCV</div></div><div><a class=\"sk-estimator-doc-link fitted\" rel=\"noreferrer\" target=\"_blank\" href=\"https://scikit-learn.org/1.6/modules/generated/sklearn.model_selection.GridSearchCV.html\">?<span>Documentation for GridSearchCV</span></a><span class=\"sk-estimator-doc-link fitted\">i<span>Fitted</span></span></div></label><div class=\"sk-toggleable__content fitted\"><pre>GridSearchCV(cv=5, estimator=GradientBoostingRegressor(random_state=0),\n",
              "             n_jobs=1,\n",
              "             param_grid={&#x27;learning_rate&#x27;: [0.05], &#x27;max_depth&#x27;: [5],\n",
              "                         &#x27;max_features&#x27;: [13], &#x27;n_estimators&#x27;: [2500],\n",
              "                         &#x27;random_state&#x27;: [5], &#x27;subsample&#x27;: [0.8]})</pre></div> </div></div><div class=\"sk-parallel\"><div class=\"sk-parallel-item\"><div class=\"sk-item\"><div class=\"sk-label-container\"><div class=\"sk-label fitted sk-toggleable\"><input class=\"sk-toggleable__control sk-hidden--visually\" id=\"sk-estimator-id-5\" type=\"checkbox\" ><label for=\"sk-estimator-id-5\" class=\"sk-toggleable__label fitted sk-toggleable__label-arrow\"><div><div>best_estimator_: GradientBoostingRegressor</div></div></label><div class=\"sk-toggleable__content fitted\"><pre>GradientBoostingRegressor(learning_rate=0.05, max_depth=5, max_features=13,\n",
              "                          n_estimators=2500, random_state=5, subsample=0.8)</pre></div> </div></div><div class=\"sk-serial\"><div class=\"sk-item\"><div class=\"sk-estimator fitted sk-toggleable\"><input class=\"sk-toggleable__control sk-hidden--visually\" id=\"sk-estimator-id-6\" type=\"checkbox\" ><label for=\"sk-estimator-id-6\" class=\"sk-toggleable__label fitted sk-toggleable__label-arrow\"><div><div>GradientBoostingRegressor</div></div><div><a class=\"sk-estimator-doc-link fitted\" rel=\"noreferrer\" target=\"_blank\" href=\"https://scikit-learn.org/1.6/modules/generated/sklearn.ensemble.GradientBoostingRegressor.html\">?<span>Documentation for GradientBoostingRegressor</span></a></div></label><div class=\"sk-toggleable__content fitted\"><pre>GradientBoostingRegressor(learning_rate=0.05, max_depth=5, max_features=13,\n",
              "                          n_estimators=2500, random_state=5, subsample=0.8)</pre></div> </div></div></div></div></div></div></div></div></div>"
            ]
          },
          "metadata": {},
          "execution_count": 82
        }
      ],
      "source": [
        "gbr = GradientBoostingRegressor(random_state=0)\n",
        "param_grid = {'n_estimators': [2500],\n",
        "              'max_features': [13],\n",
        "              'max_depth': [5],\n",
        "              'learning_rate': [0.05],\n",
        "              'subsample': [0.8],\n",
        "             'random_state' : [5]}\n",
        "\n",
        "gb_model = GridSearchCV(estimator=gbr, param_grid=param_grid, n_jobs=1, cv=5)\n",
        "gb_model.fit(X_train, y_train)"
      ]
    },
    {
      "cell_type": "code",
      "execution_count": 84,
      "metadata": {
        "id": "Z82-R2aF8-dD",
        "outputId": "17db0155-0e0b-4220-c344-72d67f7b3b35",
        "colab": {
          "base_uri": "https://localhost:8080/"
        }
      },
      "outputs": [
        {
          "output_type": "stream",
          "name": "stdout",
          "text": [
            "Best Parameters: {'learning_rate': 0.05, 'max_depth': 5, 'max_features': 13, 'n_estimators': 2500, 'random_state': 5, 'subsample': 0.8}\n",
            "Mean Squared Error = 0.00000952\n"
          ]
        }
      ],
      "source": [
        "y_train_pred = gb_model.predict(X_train)\n",
        "MSE_train = np.mean((y_train_pred - y_train)**2)\n",
        "print('Best Parameters: {}'.format(gb_model.best_params_))\n",
        "print(\"Mean Squared Error = {:.8f}\".format(MSE_train))"
      ]
    },
    {
      "cell_type": "markdown",
      "metadata": {
        "id": "mpnpn_Ka8-dD"
      },
      "source": [
        "**Régression XGBoost**"
      ]
    },
    {
      "cell_type": "code",
      "execution_count": 88,
      "metadata": {
        "id": "N-k21zUQ8-dD",
        "outputId": "c81ed221-3393-4df8-848b-5e77315041c7",
        "colab": {
          "base_uri": "https://localhost:8080/"
        }
      },
      "outputs": [
        {
          "output_type": "stream",
          "name": "stdout",
          "text": [
            "\n",
            "\n",
            "Best Parameters: {'colsample_bytree': 0.45, 'learning_rate': 0.05, 'max_depth': 3, 'n_estimators': 2000, 'subsample': 0.8}\n",
            "Mean Squared Error = 0.00050016\n"
          ]
        }
      ],
      "source": [
        "xgbreg = xgb.XGBRegressor(seed=0)\n",
        "param_grid2 = {'n_estimators': [2000],\n",
        "              'learning_rate': [0.05],\n",
        "              'max_depth': [3, 7],\n",
        "              'subsample': [0.8],\n",
        "              'colsample_bytree': [0.45, 0.75]}\n",
        "\n",
        "xgb_model = GridSearchCV(estimator=xgbreg, param_grid=param_grid2, n_jobs=1, cv=10)\n",
        "xgb_model.fit(X_train, y_train)\n",
        "\n",
        "y_train_pred = xgb_model.predict(X_train)\n",
        "MSE_train = np.mean((y_train_pred - y_train)**2)\n",
        "\n",
        "print('\\n\\nBest Parameters: {}'.format(xgb_model.best_params_))\n",
        "print(\"Mean Squared Error = {:.8f}\".format(MSE_train))"
      ]
    },
    {
      "cell_type": "markdown",
      "metadata": {
        "id": "cL5MX1fk8-dD"
      },
      "source": [
        "**ElasticNet**"
      ]
    },
    {
      "cell_type": "code",
      "execution_count": 89,
      "metadata": {
        "id": "JVJCdYWo8-dD"
      },
      "outputs": [],
      "source": [
        "en_model = ElasticNetCV(alphas = [0.0001, 0.0003, 0.0004, 0.0006],\n",
        "                        l1_ratio = [.9, .92],\n",
        "                        random_state = 0,\n",
        "                        cv=10)\n"
      ]
    },
    {
      "cell_type": "code",
      "execution_count": 90,
      "metadata": {
        "id": "AHPZV49E8-dD"
      },
      "outputs": [],
      "source": [
        "en_model.fit(X_train, y_train)\n",
        "\n",
        "y_train_pred = en_model.predict(X_train)\n",
        "MSE_train = np.mean((y_train_pred - y_train)**2)"
      ]
    },
    {
      "cell_type": "code",
      "execution_count": 92,
      "metadata": {
        "id": "A_p0m0SO8-dD",
        "outputId": "70e8f81d-abef-42d7-c2d6-d75d27418160",
        "colab": {
          "base_uri": "https://localhost:8080/"
        }
      },
      "outputs": [
        {
          "output_type": "stream",
          "name": "stdout",
          "text": [
            "Mean Squared Error = 0.01171991\n",
            "RMSE score for ElasticNet: 0.136\n"
          ]
        }
      ],
      "source": [
        "print(\"Mean Squared Error = {:.8f}\".format(MSE_train))\n",
        "print(\"RMSE score for ElasticNet: {:.3f}\".format(rmse(en_model, X_train, y_train)))"
      ]
    },
    {
      "cell_type": "markdown",
      "metadata": {
        "id": "19iEpnNl8-dD"
      },
      "source": [
        "**LightGBM**"
      ]
    },
    {
      "cell_type": "code",
      "execution_count": 94,
      "metadata": {
        "id": "hkiRFMeP8-dD",
        "outputId": "2d6c65c1-4236-427f-dc3b-7f3825731bdd",
        "colab": {
          "base_uri": "https://localhost:8080/"
        }
      },
      "outputs": [
        {
          "output_type": "stream",
          "name": "stdout",
          "text": [
            "[LightGBM] [Warning] min_sum_hessian_in_leaf is set=11, min_child_weight=0.001 will be ignored. Current value: min_sum_hessian_in_leaf=11\n",
            "[LightGBM] [Warning] min_data_in_leaf is set=6, min_child_samples=20 will be ignored. Current value: min_data_in_leaf=6\n",
            "[LightGBM] [Warning] feature_fraction is set=0.2, colsample_bytree=1.0 will be ignored. Current value: feature_fraction=0.2\n",
            "[LightGBM] [Warning] bagging_fraction is set=0.8, subsample=1.0 will be ignored. Current value: bagging_fraction=0.8\n",
            "[LightGBM] [Warning] bagging_freq is set=5, subsample_freq=0 will be ignored. Current value: bagging_freq=5\n",
            "[LightGBM] [Warning] Found whitespace in feature_names, replace with underlines\n",
            "[LightGBM] [Warning] min_sum_hessian_in_leaf is set=11, min_child_weight=0.001 will be ignored. Current value: min_sum_hessian_in_leaf=11\n",
            "[LightGBM] [Warning] min_data_in_leaf is set=6, min_child_samples=20 will be ignored. Current value: min_data_in_leaf=6\n",
            "[LightGBM] [Warning] feature_fraction is set=0.2, colsample_bytree=1.0 will be ignored. Current value: feature_fraction=0.2\n",
            "[LightGBM] [Warning] bagging_fraction is set=0.8, subsample=1.0 will be ignored. Current value: bagging_fraction=0.8\n",
            "[LightGBM] [Warning] bagging_freq is set=5, subsample_freq=0 will be ignored. Current value: bagging_freq=5\n",
            "[LightGBM] [Info] Auto-choosing row-wise multi-threading, the overhead of testing was 0.002612 seconds.\n",
            "You can set `force_row_wise=true` to remove the overhead.\n",
            "And if memory is not enough, you can set `force_col_wise=true`.\n",
            "[LightGBM] [Info] Total Bins 1643\n",
            "[LightGBM] [Info] Number of data points in the train set: 1460, number of used features: 277\n",
            "[LightGBM] [Info] Start training from score 12.024057\n",
            "[LightGBM] [Warning] min_sum_hessian_in_leaf is set=11, min_child_weight=0.001 will be ignored. Current value: min_sum_hessian_in_leaf=11\n",
            "[LightGBM] [Warning] min_data_in_leaf is set=6, min_child_samples=20 will be ignored. Current value: min_data_in_leaf=6\n",
            "[LightGBM] [Warning] feature_fraction is set=0.2, colsample_bytree=1.0 will be ignored. Current value: feature_fraction=0.2\n",
            "[LightGBM] [Warning] bagging_fraction is set=0.8, subsample=1.0 will be ignored. Current value: bagging_fraction=0.8\n",
            "[LightGBM] [Warning] bagging_freq is set=5, subsample_freq=0 will be ignored. Current value: bagging_freq=5\n",
            "Mean Squared Error = 0.00535296\n",
            "RMSE score for LGBMRegressor: 0.1357\n"
          ]
        }
      ],
      "source": [
        "lgb_model = lgb.LGBMRegressor(objective='regression', num_leaves=5,\n",
        "                              learning_rate=0.05, n_estimators=800,\n",
        "                              max_bin = 55, bagging_fraction = 0.8,\n",
        "                              bagging_freq = 5, feature_fraction = 0.2,\n",
        "                              feature_fraction_seed=9, bagging_seed=9,\n",
        "                              min_data_in_leaf =6, min_sum_hessian_in_leaf = 11)\n",
        "\n",
        "lgb_model.fit(X_train, y_train)\n",
        "\n",
        "y_train_pred = lgb_model.predict(X_train)\n",
        "MSE_train = np.mean((y_train_pred - y_train)**2)\n",
        "\n",
        "print(\"Mean Squared Error = {:.8f}\".format(MSE_train))\n",
        "print(\"RMSE score for LGBMRegressor: {:.4f}\".format(rmse(en_model, X_train, y_train)))"
      ]
    },
    {
      "cell_type": "markdown",
      "metadata": {
        "id": "2tkMl1mn8-dD"
      },
      "source": [
        "**BaggingRegressor**"
      ]
    },
    {
      "cell_type": "code",
      "execution_count": 97,
      "metadata": {
        "id": "VdViHA068-dE",
        "outputId": "d29872de-3ddd-4464-c2ec-3576095cc247",
        "colab": {
          "base_uri": "https://localhost:8080/"
        }
      },
      "outputs": [
        {
          "output_type": "stream",
          "name": "stderr",
          "text": [
            "[Parallel(n_jobs=3)]: Using backend LokyBackend with 3 concurrent workers.\n",
            "[Parallel(n_jobs=3)]: Done   3 out of   3 | elapsed:  2.4min finished\n",
            "[Parallel(n_jobs=3)]: Using backend LokyBackend with 3 concurrent workers.\n",
            "[Parallel(n_jobs=3)]: Done   3 out of   3 | elapsed:    0.1s finished\n"
          ]
        },
        {
          "output_type": "stream",
          "name": "stdout",
          "text": [
            "Mean Squared Error = 0.01230858\n"
          ]
        }
      ],
      "source": [
        "from sklearn.ensemble import BaggingRegressor\n",
        "\n",
        "model2 = BaggingRegressor(estimator=en_model, n_estimators=50,\n",
        "                          max_samples=0.8, max_features=0.8,\n",
        "                          verbose=3, n_jobs=3)\n",
        "model2.fit(X_train, y_train)\n",
        "\n",
        "y_train_pred = model2.predict(X_train)\n",
        "MSE_train = np.mean((y_train_pred - y_train) ** 2)\n",
        "\n",
        "print(\"Mean Squared Error = {:.8f}\".format(MSE_train))"
      ]
    },
    {
      "cell_type": "markdown",
      "metadata": {
        "id": "ntUvC6-78-dE"
      },
      "source": [
        "### Stacking"
      ]
    },
    {
      "cell_type": "code",
      "execution_count": 100,
      "metadata": {
        "id": "ofYNFeTD8-dE"
      },
      "outputs": [],
      "source": [
        "from mlxtend.regressor import StackingCVRegressor\n",
        "from sklearn.pipeline import make_pipeline\n"
      ]
    },
    {
      "cell_type": "code",
      "execution_count": 101,
      "metadata": {
        "id": "4B72Mov58-dE"
      },
      "outputs": [],
      "source": [
        "lasso_model = make_pipeline(RobustScaler(),\n",
        "                      LassoCV(max_iter=1e7, alphas = [0.0005],\n",
        "                              random_state = 42, cv=5))\n",
        "\n",
        "elasticnet_model = make_pipeline(RobustScaler(),\n",
        "                           ElasticNetCV(max_iter=1e7, alphas=[0.0005],\n",
        "                                        cv=5, l1_ratio=0.9))\n",
        "\n",
        "lgbm_model = make_pipeline(RobustScaler(),\n",
        "                        lgb.LGBMRegressor(objective='regression',num_leaves=5,\n",
        "                                      learning_rate=0.05, n_estimators=800,\n",
        "                                      max_bin = 55, bagging_fraction = 0.8,\n",
        "                                      bagging_freq = 5, feature_fraction = 0.23,\n",
        "                                      feature_fraction_seed = 9, bagging_seed=9,\n",
        "                                      min_data_in_leaf = 6,\n",
        "                                      min_sum_hessian_in_leaf = 11))\n",
        "\n",
        "xgboost_model = make_pipeline(RobustScaler(),\n",
        "                        xgb.XGBRegressor(learning_rate = 0.01, n_estimators=3400,\n",
        "                                     max_depth=3,min_child_weight=0 ,\n",
        "                                     gamma=0, subsample=0.7,\n",
        "                                     colsample_bytree=0.7,\n",
        "                                     objective= 'reg:linear',nthread=4,\n",
        "                                     scale_pos_weight=1,seed=27,\n",
        "                                     reg_alpha=0.00006))"
      ]
    },
    {
      "cell_type": "code",
      "execution_count": 102,
      "metadata": {
        "id": "TyyKeOEh8-dE"
      },
      "outputs": [],
      "source": [
        "stack_regressor = StackingCVRegressor(regressors=(lasso_model, elasticnet_model, xgboost_model, lgbm_model),\n",
        "                               meta_regressor=xgboost_model, use_features_in_secondary=True)"
      ]
    },
    {
      "cell_type": "markdown",
      "metadata": {
        "id": "Dr9bNT2S8-dE"
      },
      "source": [
        "**Running**"
      ]
    },
    {
      "cell_type": "code",
      "execution_count": 107,
      "metadata": {
        "id": "8rM8m0Kt8-dE"
      },
      "outputs": [],
      "source": [
        "from sklearn.ensemble import StackingRegressor\n",
        "from sklearn.linear_model import RidgeCV\n",
        "from sklearn.linear_model import ElasticNet\n",
        "from sklearn.ensemble import GradientBoostingRegressor\n",
        "from sklearn.tree import DecisionTreeRegressor\n",
        "\n",
        "base_learners = [\n",
        "    ('ridge', RidgeCV()),\n",
        "    ('elastic', ElasticNet()),\n",
        "    ('gbr', GradientBoostingRegressor())\n",
        "]\n",
        "\n",
        "stack_regressor = StackingRegressor(\n",
        "    estimators=base_learners,\n",
        "    final_estimator=DecisionTreeRegressor()\n",
        ")\n",
        "\n",
        "stack_model = stack_regressor.fit(X_train, y_train)"
      ]
    },
    {
      "cell_type": "code",
      "execution_count": 108,
      "metadata": {
        "id": "tM-17L6z8-dE"
      },
      "outputs": [],
      "source": [
        "en_preds = en_model.predict(test_preprocessed)"
      ]
    },
    {
      "cell_type": "code",
      "execution_count": 115,
      "metadata": {
        "id": "HD470Z-m8-dE"
      },
      "outputs": [],
      "source": [
        "lasso_preds = lasso_model.predict(test_preprocessed)"
      ]
    },
    {
      "cell_type": "code",
      "execution_count": 110,
      "metadata": {
        "id": "lzrEoTIO8-dE"
      },
      "outputs": [],
      "source": [
        "stack_gen_preds = stack_model.predict(test_preprocessed)"
      ]
    },
    {
      "cell_type": "code",
      "execution_count": 111,
      "metadata": {
        "id": "-Cdk76Py8-dE",
        "colab": {
          "base_uri": "https://localhost:8080/"
        },
        "outputId": "e3538bff-e816-46b6-e653-f96770bda750"
      },
      "outputs": [
        {
          "output_type": "stream",
          "name": "stdout",
          "text": [
            "[LightGBM] [Warning] min_sum_hessian_in_leaf is set=11, min_child_weight=0.001 will be ignored. Current value: min_sum_hessian_in_leaf=11\n",
            "[LightGBM] [Warning] min_data_in_leaf is set=6, min_child_samples=20 will be ignored. Current value: min_data_in_leaf=6\n",
            "[LightGBM] [Warning] feature_fraction is set=0.2, colsample_bytree=1.0 will be ignored. Current value: feature_fraction=0.2\n",
            "[LightGBM] [Warning] bagging_fraction is set=0.8, subsample=1.0 will be ignored. Current value: bagging_fraction=0.8\n",
            "[LightGBM] [Warning] bagging_freq is set=5, subsample_freq=0 will be ignored. Current value: bagging_freq=5\n"
          ]
        }
      ],
      "source": [
        "lgbm_preds = lgb_model.predict(test_preprocessed)"
      ]
    },
    {
      "cell_type": "code",
      "execution_count": 116,
      "metadata": {
        "id": "CmNfGfAQ8-dE"
      },
      "outputs": [],
      "source": [
        "# Weighted predictions\n",
        "stack_preds = ((0.2*en_preds) + (0.25*lasso_preds) + (0.15*lgbm_preds) + (0.4*stack_gen_preds))"
      ]
    },
    {
      "cell_type": "code",
      "execution_count": 117,
      "metadata": {
        "id": "j94H3pkk8-dE",
        "outputId": "9a03e4e1-a9de-43de-ceb7-9bd2ab8bc297",
        "colab": {
          "base_uri": "https://localhost:8080/",
          "height": 238
        }
      },
      "outputs": [
        {
          "output_type": "execute_result",
          "data": {
            "text/plain": [
              "          SalePrice\n",
              "Id                 \n",
              "1461  130406.418632\n",
              "1462  153065.861285\n",
              "1463  194297.311882\n",
              "1464  186940.204238\n",
              "1465  192994.188648"
            ],
            "text/html": [
              "\n",
              "  <div id=\"df-7e00e5fa-4723-4c97-92bc-782de1e6ce9d\" class=\"colab-df-container\">\n",
              "    <div>\n",
              "<style scoped>\n",
              "    .dataframe tbody tr th:only-of-type {\n",
              "        vertical-align: middle;\n",
              "    }\n",
              "\n",
              "    .dataframe tbody tr th {\n",
              "        vertical-align: top;\n",
              "    }\n",
              "\n",
              "    .dataframe thead th {\n",
              "        text-align: right;\n",
              "    }\n",
              "</style>\n",
              "<table border=\"1\" class=\"dataframe\">\n",
              "  <thead>\n",
              "    <tr style=\"text-align: right;\">\n",
              "      <th></th>\n",
              "      <th>SalePrice</th>\n",
              "    </tr>\n",
              "    <tr>\n",
              "      <th>Id</th>\n",
              "      <th></th>\n",
              "    </tr>\n",
              "  </thead>\n",
              "  <tbody>\n",
              "    <tr>\n",
              "      <th>1461</th>\n",
              "      <td>130406.418632</td>\n",
              "    </tr>\n",
              "    <tr>\n",
              "      <th>1462</th>\n",
              "      <td>153065.861285</td>\n",
              "    </tr>\n",
              "    <tr>\n",
              "      <th>1463</th>\n",
              "      <td>194297.311882</td>\n",
              "    </tr>\n",
              "    <tr>\n",
              "      <th>1464</th>\n",
              "      <td>186940.204238</td>\n",
              "    </tr>\n",
              "    <tr>\n",
              "      <th>1465</th>\n",
              "      <td>192994.188648</td>\n",
              "    </tr>\n",
              "  </tbody>\n",
              "</table>\n",
              "</div>\n",
              "    <div class=\"colab-df-buttons\">\n",
              "\n",
              "  <div class=\"colab-df-container\">\n",
              "    <button class=\"colab-df-convert\" onclick=\"convertToInteractive('df-7e00e5fa-4723-4c97-92bc-782de1e6ce9d')\"\n",
              "            title=\"Convert this dataframe to an interactive table.\"\n",
              "            style=\"display:none;\">\n",
              "\n",
              "  <svg xmlns=\"http://www.w3.org/2000/svg\" height=\"24px\" viewBox=\"0 -960 960 960\">\n",
              "    <path d=\"M120-120v-720h720v720H120Zm60-500h600v-160H180v160Zm220 220h160v-160H400v160Zm0 220h160v-160H400v160ZM180-400h160v-160H180v160Zm440 0h160v-160H620v160ZM180-180h160v-160H180v160Zm440 0h160v-160H620v160Z\"/>\n",
              "  </svg>\n",
              "    </button>\n",
              "\n",
              "  <style>\n",
              "    .colab-df-container {\n",
              "      display:flex;\n",
              "      gap: 12px;\n",
              "    }\n",
              "\n",
              "    .colab-df-convert {\n",
              "      background-color: #E8F0FE;\n",
              "      border: none;\n",
              "      border-radius: 50%;\n",
              "      cursor: pointer;\n",
              "      display: none;\n",
              "      fill: #1967D2;\n",
              "      height: 32px;\n",
              "      padding: 0 0 0 0;\n",
              "      width: 32px;\n",
              "    }\n",
              "\n",
              "    .colab-df-convert:hover {\n",
              "      background-color: #E2EBFA;\n",
              "      box-shadow: 0px 1px 2px rgba(60, 64, 67, 0.3), 0px 1px 3px 1px rgba(60, 64, 67, 0.15);\n",
              "      fill: #174EA6;\n",
              "    }\n",
              "\n",
              "    .colab-df-buttons div {\n",
              "      margin-bottom: 4px;\n",
              "    }\n",
              "\n",
              "    [theme=dark] .colab-df-convert {\n",
              "      background-color: #3B4455;\n",
              "      fill: #D2E3FC;\n",
              "    }\n",
              "\n",
              "    [theme=dark] .colab-df-convert:hover {\n",
              "      background-color: #434B5C;\n",
              "      box-shadow: 0px 1px 3px 1px rgba(0, 0, 0, 0.15);\n",
              "      filter: drop-shadow(0px 1px 2px rgba(0, 0, 0, 0.3));\n",
              "      fill: #FFFFFF;\n",
              "    }\n",
              "  </style>\n",
              "\n",
              "    <script>\n",
              "      const buttonEl =\n",
              "        document.querySelector('#df-7e00e5fa-4723-4c97-92bc-782de1e6ce9d button.colab-df-convert');\n",
              "      buttonEl.style.display =\n",
              "        google.colab.kernel.accessAllowed ? 'block' : 'none';\n",
              "\n",
              "      async function convertToInteractive(key) {\n",
              "        const element = document.querySelector('#df-7e00e5fa-4723-4c97-92bc-782de1e6ce9d');\n",
              "        const dataTable =\n",
              "          await google.colab.kernel.invokeFunction('convertToInteractive',\n",
              "                                                    [key], {});\n",
              "        if (!dataTable) return;\n",
              "\n",
              "        const docLinkHtml = 'Like what you see? Visit the ' +\n",
              "          '<a target=\"_blank\" href=https://colab.research.google.com/notebooks/data_table.ipynb>data table notebook</a>'\n",
              "          + ' to learn more about interactive tables.';\n",
              "        element.innerHTML = '';\n",
              "        dataTable['output_type'] = 'display_data';\n",
              "        await google.colab.output.renderOutput(dataTable, element);\n",
              "        const docLink = document.createElement('div');\n",
              "        docLink.innerHTML = docLinkHtml;\n",
              "        element.appendChild(docLink);\n",
              "      }\n",
              "    </script>\n",
              "  </div>\n",
              "\n",
              "\n",
              "    <div id=\"df-69079096-ea88-4fa7-b308-25e777758a94\">\n",
              "      <button class=\"colab-df-quickchart\" onclick=\"quickchart('df-69079096-ea88-4fa7-b308-25e777758a94')\"\n",
              "                title=\"Suggest charts\"\n",
              "                style=\"display:none;\">\n",
              "\n",
              "<svg xmlns=\"http://www.w3.org/2000/svg\" height=\"24px\"viewBox=\"0 0 24 24\"\n",
              "     width=\"24px\">\n",
              "    <g>\n",
              "        <path d=\"M19 3H5c-1.1 0-2 .9-2 2v14c0 1.1.9 2 2 2h14c1.1 0 2-.9 2-2V5c0-1.1-.9-2-2-2zM9 17H7v-7h2v7zm4 0h-2V7h2v10zm4 0h-2v-4h2v4z\"/>\n",
              "    </g>\n",
              "</svg>\n",
              "      </button>\n",
              "\n",
              "<style>\n",
              "  .colab-df-quickchart {\n",
              "      --bg-color: #E8F0FE;\n",
              "      --fill-color: #1967D2;\n",
              "      --hover-bg-color: #E2EBFA;\n",
              "      --hover-fill-color: #174EA6;\n",
              "      --disabled-fill-color: #AAA;\n",
              "      --disabled-bg-color: #DDD;\n",
              "  }\n",
              "\n",
              "  [theme=dark] .colab-df-quickchart {\n",
              "      --bg-color: #3B4455;\n",
              "      --fill-color: #D2E3FC;\n",
              "      --hover-bg-color: #434B5C;\n",
              "      --hover-fill-color: #FFFFFF;\n",
              "      --disabled-bg-color: #3B4455;\n",
              "      --disabled-fill-color: #666;\n",
              "  }\n",
              "\n",
              "  .colab-df-quickchart {\n",
              "    background-color: var(--bg-color);\n",
              "    border: none;\n",
              "    border-radius: 50%;\n",
              "    cursor: pointer;\n",
              "    display: none;\n",
              "    fill: var(--fill-color);\n",
              "    height: 32px;\n",
              "    padding: 0;\n",
              "    width: 32px;\n",
              "  }\n",
              "\n",
              "  .colab-df-quickchart:hover {\n",
              "    background-color: var(--hover-bg-color);\n",
              "    box-shadow: 0 1px 2px rgba(60, 64, 67, 0.3), 0 1px 3px 1px rgba(60, 64, 67, 0.15);\n",
              "    fill: var(--button-hover-fill-color);\n",
              "  }\n",
              "\n",
              "  .colab-df-quickchart-complete:disabled,\n",
              "  .colab-df-quickchart-complete:disabled:hover {\n",
              "    background-color: var(--disabled-bg-color);\n",
              "    fill: var(--disabled-fill-color);\n",
              "    box-shadow: none;\n",
              "  }\n",
              "\n",
              "  .colab-df-spinner {\n",
              "    border: 2px solid var(--fill-color);\n",
              "    border-color: transparent;\n",
              "    border-bottom-color: var(--fill-color);\n",
              "    animation:\n",
              "      spin 1s steps(1) infinite;\n",
              "  }\n",
              "\n",
              "  @keyframes spin {\n",
              "    0% {\n",
              "      border-color: transparent;\n",
              "      border-bottom-color: var(--fill-color);\n",
              "      border-left-color: var(--fill-color);\n",
              "    }\n",
              "    20% {\n",
              "      border-color: transparent;\n",
              "      border-left-color: var(--fill-color);\n",
              "      border-top-color: var(--fill-color);\n",
              "    }\n",
              "    30% {\n",
              "      border-color: transparent;\n",
              "      border-left-color: var(--fill-color);\n",
              "      border-top-color: var(--fill-color);\n",
              "      border-right-color: var(--fill-color);\n",
              "    }\n",
              "    40% {\n",
              "      border-color: transparent;\n",
              "      border-right-color: var(--fill-color);\n",
              "      border-top-color: var(--fill-color);\n",
              "    }\n",
              "    60% {\n",
              "      border-color: transparent;\n",
              "      border-right-color: var(--fill-color);\n",
              "    }\n",
              "    80% {\n",
              "      border-color: transparent;\n",
              "      border-right-color: var(--fill-color);\n",
              "      border-bottom-color: var(--fill-color);\n",
              "    }\n",
              "    90% {\n",
              "      border-color: transparent;\n",
              "      border-bottom-color: var(--fill-color);\n",
              "    }\n",
              "  }\n",
              "</style>\n",
              "\n",
              "      <script>\n",
              "        async function quickchart(key) {\n",
              "          const quickchartButtonEl =\n",
              "            document.querySelector('#' + key + ' button');\n",
              "          quickchartButtonEl.disabled = true;  // To prevent multiple clicks.\n",
              "          quickchartButtonEl.classList.add('colab-df-spinner');\n",
              "          try {\n",
              "            const charts = await google.colab.kernel.invokeFunction(\n",
              "                'suggestCharts', [key], {});\n",
              "          } catch (error) {\n",
              "            console.error('Error during call to suggestCharts:', error);\n",
              "          }\n",
              "          quickchartButtonEl.classList.remove('colab-df-spinner');\n",
              "          quickchartButtonEl.classList.add('colab-df-quickchart-complete');\n",
              "        }\n",
              "        (() => {\n",
              "          let quickchartButtonEl =\n",
              "            document.querySelector('#df-69079096-ea88-4fa7-b308-25e777758a94 button');\n",
              "          quickchartButtonEl.style.display =\n",
              "            google.colab.kernel.accessAllowed ? 'block' : 'none';\n",
              "        })();\n",
              "      </script>\n",
              "    </div>\n",
              "\n",
              "    </div>\n",
              "  </div>\n"
            ],
            "application/vnd.google.colaboratory.intrinsic+json": {
              "type": "dataframe",
              "variable_name": "predictions_df",
              "summary": "{\n  \"name\": \"predictions_df\",\n  \"rows\": 1459,\n  \"fields\": [\n    {\n      \"column\": \"Id\",\n      \"properties\": {\n        \"dtype\": \"number\",\n        \"std\": 421,\n        \"min\": 1461,\n        \"max\": 2919,\n        \"num_unique_values\": 1459,\n        \"samples\": [\n          2782,\n          2297,\n          1874\n        ],\n        \"semantic_type\": \"\",\n        \"description\": \"\"\n      }\n    },\n    {\n      \"column\": \"SalePrice\",\n      \"properties\": {\n        \"dtype\": \"number\",\n        \"std\": 76732.21190580787,\n        \"min\": 45310.81658264964,\n        \"max\": 656290.6864507007,\n        \"num_unique_values\": 1459,\n        \"samples\": [\n          101396.0525043164,\n          321089.8413693602,\n          149703.5507978871\n        ],\n        \"semantic_type\": \"\",\n        \"description\": \"\"\n      }\n    }\n  ]\n}"
            }
          },
          "metadata": {},
          "execution_count": 117
        }
      ],
      "source": [
        "predictions_df = pd.DataFrame(np.expm1(stack_preds),\n",
        "                              index = test_preprocessed.index+1,\n",
        "                              columns=[\"SalePrice\"])\n",
        "predictions_df.index.name = \"Id\"\n",
        "predictions_df.head()"
      ]
    },
    {
      "cell_type": "markdown",
      "source": [
        "##Sauvegarde du modele lineaire pour le reutiliser dans le dashbord"
      ],
      "metadata": {
        "id": "Nx-Zvhj0H-3K"
      }
    },
    {
      "cell_type": "code",
      "execution_count": null,
      "metadata": {
        "id": "ksHkwobN8-dE"
      },
      "outputs": [],
      "source": [
        "# prompt: sauvegarde moi le model du lineaire en .joblib\n",
        "\n",
        "import joblib\n",
        "\n",
        "# sauvegarder le modèle linéaire\n",
        "joblib.dump(lr_model, 'linear_regression_model.joblib')\n",
        "\n",
        "print(\"Le modèle de régression linéaire a été sauvegardé au format .joblib\")\n"
      ]
    }
  ],
  "metadata": {
    "kernelspec": {
      "display_name": "Python 3",
      "language": "python",
      "name": "python3"
    },
    "language_info": {
      "codemirror_mode": {
        "name": "ipython",
        "version": 3
      },
      "file_extension": ".py",
      "mimetype": "text/x-python",
      "name": "python",
      "nbconvert_exporter": "python",
      "pygments_lexer": "ipython3",
      "version": "3.6.4"
    },
    "colab": {
      "provenance": []
    }
  },
  "nbformat": 4,
  "nbformat_minor": 0
}